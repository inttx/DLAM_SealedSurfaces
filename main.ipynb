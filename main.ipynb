{
 "cells": [
  {
   "metadata": {},
   "cell_type": "code",
   "outputs": [],
   "execution_count": null,
   "source": [
    "!git clone https://github.com/inttx/DLAM_SealedSurfaces.git\n",
    "!pip install -r requirements.txt\n",
    "%cd src"
   ],
   "id": "81b50fcfff8cff4f"
  },
  {
   "cell_type": "code",
   "execution_count": null,
   "id": "initial_id",
   "metadata": {
    "collapsed": true
   },
   "outputs": [],
   "source": [
    "from torch.utils.data import DataLoader\n",
    "from torch import nn\n",
    "from torch.optim import AdamW\n",
    "\n",
    "from settings import *\n",
    "from dataset import PotsdamDataset\n",
    "from model import custom_resnet18\n",
    "from train import train_loop"
   ]
  },
  {
   "metadata": {},
   "cell_type": "code",
   "outputs": [],
   "execution_count": null,
   "source": [
    "try:\n",
    "    import os\n",
    "    from google.colab import drive\n",
    "    MOUNTPOINT = '/content/dlam_datasets/'\n",
    "    drive.mount(MOUNTPOINT)\n",
    "\n",
    "    IMAGE_PATH = os.path.join(MOUNTPOINT, 'My Drive', '2_Ortho_RGB')\n",
    "    LABEL_PATH = os.path.join(MOUNTPOINT, 'My Drive', '2_Ortho_RGB')\n",
    "except:\n",
    "    IMAGE_PATH = '../data/2_Ortho_RGB'\n",
    "    LABEL_PATH = '../data/5_Labels_all'"
   ],
   "id": "de7835d6a5e58021"
  },
  {
   "metadata": {},
   "cell_type": "code",
   "outputs": [],
   "execution_count": null,
   "source": [
    "# Hyperparameters\n",
    "patch_size = 250\n",
    "stride = 250\n",
    "batch_size = 512\n",
    "num_epochs = 2\n",
    "lr = 0.001"
   ],
   "id": "44df164b5bb185ac"
  },
  {
   "metadata": {},
   "cell_type": "code",
   "outputs": [],
   "execution_count": null,
   "source": "dataset = PotsdamDataset(IMAGE_PATH, LABEL_PATH, patch_size=patch_size, stride=stride, device=DEVICE)",
   "id": "c52af6b1c224fbbd"
  },
  {
   "metadata": {},
   "cell_type": "code",
   "outputs": [],
   "execution_count": null,
   "source": "model = custom_resnet18(patch_size=patch_size, device=DEVICE)",
   "id": "6032233437dea691"
  },
  {
   "metadata": {},
   "cell_type": "code",
   "outputs": [],
   "execution_count": null,
   "source": [
    "dataloader = DataLoader(dataset=dataset, batch_size=batch_size, shuffle=True)\n",
    "loss_fn = nn.MSELoss()\n",
    "optimizer = AdamW(model.parameters(), lr=lr)"
   ],
   "id": "4d749718eca0e3bc"
  },
  {
   "metadata": {},
   "cell_type": "code",
   "outputs": [],
   "execution_count": null,
   "source": "train_loop(dataloader=dataloader, model=model, loss_fn=loss_fn, optimizer=optimizer, num_epochs=num_epochs, device=DEVICE)",
   "id": "85b18f7725de66c8"
  }
 ],
 "metadata": {
  "kernelspec": {
   "display_name": "Python 3",
   "language": "python",
   "name": "python3"
  },
  "language_info": {
   "codemirror_mode": {
    "name": "ipython",
    "version": 2
   },
   "file_extension": ".py",
   "mimetype": "text/x-python",
   "name": "python",
   "nbconvert_exporter": "python",
   "pygments_lexer": "ipython2",
   "version": "2.7.6"
  }
 },
 "nbformat": 4,
 "nbformat_minor": 5
}
