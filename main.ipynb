{
 "cells": [
  {
   "cell_type": "code",
   "execution_count": 1,
   "outputs": [
    {
     "output_type": "stream",
     "name": "stdout",
     "text": [
      "Cloning into 'DLAM_SealedSurfaces'...\n",
      "remote: Enumerating objects: 173, done.\u001B[K\n",
      "remote: Counting objects: 100% (173/173), done.\u001B[K\n",
      "remote: Compressing objects: 100% (105/105), done.\u001B[K\n",
      "remote: Total 173 (delta 109), reused 111 (delta 63), pack-reused 0 (from 0)\u001B[K\n",
      "Receiving objects: 100% (173/173), 228.26 KiB | 17.56 MiB/s, done.\n",
      "Resolving deltas: 100% (109/109), done.\n",
      "/content/DLAM_SealedSurfaces\n"
     ]
    }
   ],
   "source": [
    "!git clone https://github.com/inttx/DLAM_SealedSurfaces.git\n",
    "%cd DLAM_SealedSurfaces"
   ],
   "metadata": {
    "ExecuteTime": {
     "end_time": "2025-08-13T15:46:36.210993509Z",
     "start_time": "2025-08-13T15:46:35.547877389Z"
    },
    "colab": {
     "base_uri": "https://localhost:8080/"
    },
    "id": "78dde405835f5ea",
    "outputId": "7ac06212-a660-4457-8490-1b72b3ea0675"
   },
   "id": "78dde405835f5ea"
  },
  {
   "cell_type": "code",
   "execution_count": 2,
   "outputs": [
    {
     "output_type": "stream",
     "name": "stdout",
     "text": [
      "Collecting rasterio (from -r requirements.txt (line 1))\n",
      "  Downloading rasterio-1.4.3-cp311-cp311-manylinux_2_17_x86_64.manylinux2014_x86_64.whl.metadata (9.1 kB)\n",
      "Requirement already satisfied: torch in /usr/local/lib/python3.11/dist-packages (from -r requirements.txt (line 2)) (2.6.0+cu124)\n",
      "Requirement already satisfied: torchvision in /usr/local/lib/python3.11/dist-packages (from -r requirements.txt (line 3)) (0.21.0+cu124)\n",
      "Requirement already satisfied: tqdm in /usr/local/lib/python3.11/dist-packages (from -r requirements.txt (line 4)) (4.67.1)\n",
      "Requirement already satisfied: transformers in /usr/local/lib/python3.11/dist-packages (from -r requirements.txt (line 5)) (4.55.0)\n",
      "Requirement already satisfied: matplotlib in /usr/local/lib/python3.11/dist-packages (from -r requirements.txt (line 6)) (3.10.0)\n",
      "Collecting affine (from rasterio->-r requirements.txt (line 1))\n",
      "  Downloading affine-2.4.0-py3-none-any.whl.metadata (4.0 kB)\n",
      "Requirement already satisfied: attrs in /usr/local/lib/python3.11/dist-packages (from rasterio->-r requirements.txt (line 1)) (25.3.0)\n",
      "Requirement already satisfied: certifi in /usr/local/lib/python3.11/dist-packages (from rasterio->-r requirements.txt (line 1)) (2025.8.3)\n",
      "Requirement already satisfied: click>=4.0 in /usr/local/lib/python3.11/dist-packages (from rasterio->-r requirements.txt (line 1)) (8.2.1)\n",
      "Collecting cligj>=0.5 (from rasterio->-r requirements.txt (line 1))\n",
      "  Downloading cligj-0.7.2-py3-none-any.whl.metadata (5.0 kB)\n",
      "Requirement already satisfied: numpy>=1.24 in /usr/local/lib/python3.11/dist-packages (from rasterio->-r requirements.txt (line 1)) (2.0.2)\n",
      "Collecting click-plugins (from rasterio->-r requirements.txt (line 1))\n",
      "  Downloading click_plugins-1.1.1.2-py2.py3-none-any.whl.metadata (6.5 kB)\n",
      "Requirement already satisfied: pyparsing in /usr/local/lib/python3.11/dist-packages (from rasterio->-r requirements.txt (line 1)) (3.2.3)\n",
      "Requirement already satisfied: filelock in /usr/local/lib/python3.11/dist-packages (from torch->-r requirements.txt (line 2)) (3.18.0)\n",
      "Requirement already satisfied: typing-extensions>=4.10.0 in /usr/local/lib/python3.11/dist-packages (from torch->-r requirements.txt (line 2)) (4.14.1)\n",
      "Requirement already satisfied: networkx in /usr/local/lib/python3.11/dist-packages (from torch->-r requirements.txt (line 2)) (3.5)\n",
      "Requirement already satisfied: jinja2 in /usr/local/lib/python3.11/dist-packages (from torch->-r requirements.txt (line 2)) (3.1.6)\n",
      "Requirement already satisfied: fsspec in /usr/local/lib/python3.11/dist-packages (from torch->-r requirements.txt (line 2)) (2025.3.0)\n",
      "Collecting nvidia-cuda-nvrtc-cu12==12.4.127 (from torch->-r requirements.txt (line 2))\n",
      "  Downloading nvidia_cuda_nvrtc_cu12-12.4.127-py3-none-manylinux2014_x86_64.whl.metadata (1.5 kB)\n",
      "Collecting nvidia-cuda-runtime-cu12==12.4.127 (from torch->-r requirements.txt (line 2))\n",
      "  Downloading nvidia_cuda_runtime_cu12-12.4.127-py3-none-manylinux2014_x86_64.whl.metadata (1.5 kB)\n",
      "Collecting nvidia-cuda-cupti-cu12==12.4.127 (from torch->-r requirements.txt (line 2))\n",
      "  Downloading nvidia_cuda_cupti_cu12-12.4.127-py3-none-manylinux2014_x86_64.whl.metadata (1.6 kB)\n",
      "Collecting nvidia-cudnn-cu12==9.1.0.70 (from torch->-r requirements.txt (line 2))\n",
      "  Downloading nvidia_cudnn_cu12-9.1.0.70-py3-none-manylinux2014_x86_64.whl.metadata (1.6 kB)\n",
      "Collecting nvidia-cublas-cu12==12.4.5.8 (from torch->-r requirements.txt (line 2))\n",
      "  Downloading nvidia_cublas_cu12-12.4.5.8-py3-none-manylinux2014_x86_64.whl.metadata (1.5 kB)\n",
      "Collecting nvidia-cufft-cu12==11.2.1.3 (from torch->-r requirements.txt (line 2))\n",
      "  Downloading nvidia_cufft_cu12-11.2.1.3-py3-none-manylinux2014_x86_64.whl.metadata (1.5 kB)\n",
      "Collecting nvidia-curand-cu12==10.3.5.147 (from torch->-r requirements.txt (line 2))\n",
      "  Downloading nvidia_curand_cu12-10.3.5.147-py3-none-manylinux2014_x86_64.whl.metadata (1.5 kB)\n",
      "Collecting nvidia-cusolver-cu12==11.6.1.9 (from torch->-r requirements.txt (line 2))\n",
      "  Downloading nvidia_cusolver_cu12-11.6.1.9-py3-none-manylinux2014_x86_64.whl.metadata (1.6 kB)\n",
      "Collecting nvidia-cusparse-cu12==12.3.1.170 (from torch->-r requirements.txt (line 2))\n",
      "  Downloading nvidia_cusparse_cu12-12.3.1.170-py3-none-manylinux2014_x86_64.whl.metadata (1.6 kB)\n",
      "Requirement already satisfied: nvidia-cusparselt-cu12==0.6.2 in /usr/local/lib/python3.11/dist-packages (from torch->-r requirements.txt (line 2)) (0.6.2)\n",
      "Collecting nvidia-nccl-cu12==2.21.5 (from torch->-r requirements.txt (line 2))\n",
      "  Downloading nvidia_nccl_cu12-2.21.5-py3-none-manylinux2014_x86_64.whl.metadata (1.8 kB)\n",
      "Requirement already satisfied: nvidia-nvtx-cu12==12.4.127 in /usr/local/lib/python3.11/dist-packages (from torch->-r requirements.txt (line 2)) (12.4.127)\n",
      "Collecting nvidia-nvjitlink-cu12==12.4.127 (from torch->-r requirements.txt (line 2))\n",
      "  Downloading nvidia_nvjitlink_cu12-12.4.127-py3-none-manylinux2014_x86_64.whl.metadata (1.5 kB)\n",
      "Requirement already satisfied: triton==3.2.0 in /usr/local/lib/python3.11/dist-packages (from torch->-r requirements.txt (line 2)) (3.2.0)\n",
      "Requirement already satisfied: sympy==1.13.1 in /usr/local/lib/python3.11/dist-packages (from torch->-r requirements.txt (line 2)) (1.13.1)\n",
      "Requirement already satisfied: mpmath<1.4,>=1.1.0 in /usr/local/lib/python3.11/dist-packages (from sympy==1.13.1->torch->-r requirements.txt (line 2)) (1.3.0)\n",
      "Requirement already satisfied: pillow!=8.3.*,>=5.3.0 in /usr/local/lib/python3.11/dist-packages (from torchvision->-r requirements.txt (line 3)) (11.3.0)\n",
      "Requirement already satisfied: huggingface-hub<1.0,>=0.34.0 in /usr/local/lib/python3.11/dist-packages (from transformers->-r requirements.txt (line 5)) (0.34.4)\n",
      "Requirement already satisfied: packaging>=20.0 in /usr/local/lib/python3.11/dist-packages (from transformers->-r requirements.txt (line 5)) (25.0)\n",
      "Requirement already satisfied: pyyaml>=5.1 in /usr/local/lib/python3.11/dist-packages (from transformers->-r requirements.txt (line 5)) (6.0.2)\n",
      "Requirement already satisfied: regex!=2019.12.17 in /usr/local/lib/python3.11/dist-packages (from transformers->-r requirements.txt (line 5)) (2024.11.6)\n",
      "Requirement already satisfied: requests in /usr/local/lib/python3.11/dist-packages (from transformers->-r requirements.txt (line 5)) (2.32.3)\n",
      "Requirement already satisfied: tokenizers<0.22,>=0.21 in /usr/local/lib/python3.11/dist-packages (from transformers->-r requirements.txt (line 5)) (0.21.4)\n",
      "Requirement already satisfied: safetensors>=0.4.3 in /usr/local/lib/python3.11/dist-packages (from transformers->-r requirements.txt (line 5)) (0.6.2)\n",
      "Requirement already satisfied: contourpy>=1.0.1 in /usr/local/lib/python3.11/dist-packages (from matplotlib->-r requirements.txt (line 6)) (1.3.3)\n",
      "Requirement already satisfied: cycler>=0.10 in /usr/local/lib/python3.11/dist-packages (from matplotlib->-r requirements.txt (line 6)) (0.12.1)\n",
      "Requirement already satisfied: fonttools>=4.22.0 in /usr/local/lib/python3.11/dist-packages (from matplotlib->-r requirements.txt (line 6)) (4.59.0)\n",
      "Requirement already satisfied: kiwisolver>=1.3.1 in /usr/local/lib/python3.11/dist-packages (from matplotlib->-r requirements.txt (line 6)) (1.4.9)\n",
      "Requirement already satisfied: python-dateutil>=2.7 in /usr/local/lib/python3.11/dist-packages (from matplotlib->-r requirements.txt (line 6)) (2.9.0.post0)\n",
      "Requirement already satisfied: hf-xet<2.0.0,>=1.1.3 in /usr/local/lib/python3.11/dist-packages (from huggingface-hub<1.0,>=0.34.0->transformers->-r requirements.txt (line 5)) (1.1.7)\n",
      "Requirement already satisfied: six>=1.5 in /usr/local/lib/python3.11/dist-packages (from python-dateutil>=2.7->matplotlib->-r requirements.txt (line 6)) (1.17.0)\n",
      "Requirement already satisfied: MarkupSafe>=2.0 in /usr/local/lib/python3.11/dist-packages (from jinja2->torch->-r requirements.txt (line 2)) (3.0.2)\n",
      "Requirement already satisfied: charset-normalizer<4,>=2 in /usr/local/lib/python3.11/dist-packages (from requests->transformers->-r requirements.txt (line 5)) (3.4.3)\n",
      "Requirement already satisfied: idna<4,>=2.5 in /usr/local/lib/python3.11/dist-packages (from requests->transformers->-r requirements.txt (line 5)) (3.10)\n",
      "Requirement already satisfied: urllib3<3,>=1.21.1 in /usr/local/lib/python3.11/dist-packages (from requests->transformers->-r requirements.txt (line 5)) (2.5.0)\n",
      "Downloading rasterio-1.4.3-cp311-cp311-manylinux_2_17_x86_64.manylinux2014_x86_64.whl (22.2 MB)\n",
      "\u001B[2K   \u001B[90m━━━━━━━━━━━━━━━━━━━━━━━━━━━━━━━━━━━━━━━━\u001B[0m \u001B[32m22.2/22.2 MB\u001B[0m \u001B[31m106.6 MB/s\u001B[0m eta \u001B[36m0:00:00\u001B[0m\n",
      "\u001B[?25hDownloading nvidia_cublas_cu12-12.4.5.8-py3-none-manylinux2014_x86_64.whl (363.4 MB)\n",
      "\u001B[2K   \u001B[90m━━━━━━━━━━━━━━━━━━━━━━━━━━━━━━━━━━━━━━━━\u001B[0m \u001B[32m363.4/363.4 MB\u001B[0m \u001B[31m2.4 MB/s\u001B[0m eta \u001B[36m0:00:00\u001B[0m\n",
      "\u001B[?25hDownloading nvidia_cuda_cupti_cu12-12.4.127-py3-none-manylinux2014_x86_64.whl (13.8 MB)\n",
      "\u001B[2K   \u001B[90m━━━━━━━━━━━━━━━━━━━━━━━━━━━━━━━━━━━━━━━━\u001B[0m \u001B[32m13.8/13.8 MB\u001B[0m \u001B[31m129.0 MB/s\u001B[0m eta \u001B[36m0:00:00\u001B[0m\n",
      "\u001B[?25hDownloading nvidia_cuda_nvrtc_cu12-12.4.127-py3-none-manylinux2014_x86_64.whl (24.6 MB)\n",
      "\u001B[2K   \u001B[90m━━━━━━━━━━━━━━━━━━━━━━━━━━━━━━━━━━━━━━━━\u001B[0m \u001B[32m24.6/24.6 MB\u001B[0m \u001B[31m102.0 MB/s\u001B[0m eta \u001B[36m0:00:00\u001B[0m\n",
      "\u001B[?25hDownloading nvidia_cuda_runtime_cu12-12.4.127-py3-none-manylinux2014_x86_64.whl (883 kB)\n",
      "\u001B[2K   \u001B[90m━━━━━━━━━━━━━━━━━━━━━━━━━━━━━━━━━━━━━━━━\u001B[0m \u001B[32m883.7/883.7 kB\u001B[0m \u001B[31m58.1 MB/s\u001B[0m eta \u001B[36m0:00:00\u001B[0m\n",
      "\u001B[?25hDownloading nvidia_cudnn_cu12-9.1.0.70-py3-none-manylinux2014_x86_64.whl (664.8 MB)\n",
      "\u001B[2K   \u001B[90m━━━━━━━━━━━━━━━━━━━━━━━━━━━━━━━━━━━━━━━━\u001B[0m \u001B[32m664.8/664.8 MB\u001B[0m \u001B[31m1.4 MB/s\u001B[0m eta \u001B[36m0:00:00\u001B[0m\n",
      "\u001B[?25hDownloading nvidia_cufft_cu12-11.2.1.3-py3-none-manylinux2014_x86_64.whl (211.5 MB)\n",
      "\u001B[2K   \u001B[90m━━━━━━━━━━━━━━━━━━━━━━━━━━━━━━━━━━━━━━━━\u001B[0m \u001B[32m211.5/211.5 MB\u001B[0m \u001B[31m9.9 MB/s\u001B[0m eta \u001B[36m0:00:00\u001B[0m\n",
      "\u001B[?25hDownloading nvidia_curand_cu12-10.3.5.147-py3-none-manylinux2014_x86_64.whl (56.3 MB)\n",
      "\u001B[2K   \u001B[90m━━━━━━━━━━━━━━━━━━━━━━━━━━━━━━━━━━━━━━━━\u001B[0m \u001B[32m56.3/56.3 MB\u001B[0m \u001B[31m37.8 MB/s\u001B[0m eta \u001B[36m0:00:00\u001B[0m\n",
      "\u001B[?25hDownloading nvidia_cusolver_cu12-11.6.1.9-py3-none-manylinux2014_x86_64.whl (127.9 MB)\n",
      "\u001B[2K   \u001B[90m━━━━━━━━━━━━━━━━━━━━━━━━━━━━━━━━━━━━━━━━\u001B[0m \u001B[32m127.9/127.9 MB\u001B[0m \u001B[31m17.3 MB/s\u001B[0m eta \u001B[36m0:00:00\u001B[0m\n",
      "\u001B[?25hDownloading nvidia_cusparse_cu12-12.3.1.170-py3-none-manylinux2014_x86_64.whl (207.5 MB)\n",
      "\u001B[2K   \u001B[90m━━━━━━━━━━━━━━━━━━━━━━━━━━━━━━━━━━━━━━━━\u001B[0m \u001B[32m207.5/207.5 MB\u001B[0m \u001B[31m2.6 MB/s\u001B[0m eta \u001B[36m0:00:00\u001B[0m\n",
      "\u001B[?25hDownloading nvidia_nccl_cu12-2.21.5-py3-none-manylinux2014_x86_64.whl (188.7 MB)\n",
      "\u001B[2K   \u001B[90m━━━━━━━━━━━━━━━━━━━━━━━━━━━━━━━━━━━━━━━━\u001B[0m \u001B[32m188.7/188.7 MB\u001B[0m \u001B[31m11.3 MB/s\u001B[0m eta \u001B[36m0:00:00\u001B[0m\n",
      "\u001B[?25hDownloading nvidia_nvjitlink_cu12-12.4.127-py3-none-manylinux2014_x86_64.whl (21.1 MB)\n",
      "\u001B[2K   \u001B[90m━━━━━━━━━━━━━━━━━━━━━━━━━━━━━━━━━━━━━━━━\u001B[0m \u001B[32m21.1/21.1 MB\u001B[0m \u001B[31m107.3 MB/s\u001B[0m eta \u001B[36m0:00:00\u001B[0m\n",
      "\u001B[?25hDownloading cligj-0.7.2-py3-none-any.whl (7.1 kB)\n",
      "Downloading affine-2.4.0-py3-none-any.whl (15 kB)\n",
      "Downloading click_plugins-1.1.1.2-py2.py3-none-any.whl (11 kB)\n",
      "Installing collected packages: nvidia-nvjitlink-cu12, nvidia-nccl-cu12, nvidia-curand-cu12, nvidia-cufft-cu12, nvidia-cuda-runtime-cu12, nvidia-cuda-nvrtc-cu12, nvidia-cuda-cupti-cu12, nvidia-cublas-cu12, cligj, click-plugins, affine, rasterio, nvidia-cusparse-cu12, nvidia-cudnn-cu12, nvidia-cusolver-cu12\n",
      "  Attempting uninstall: nvidia-nvjitlink-cu12\n",
      "    Found existing installation: nvidia-nvjitlink-cu12 12.5.82\n",
      "    Uninstalling nvidia-nvjitlink-cu12-12.5.82:\n",
      "      Successfully uninstalled nvidia-nvjitlink-cu12-12.5.82\n",
      "  Attempting uninstall: nvidia-nccl-cu12\n",
      "    Found existing installation: nvidia-nccl-cu12 2.23.4\n",
      "    Uninstalling nvidia-nccl-cu12-2.23.4:\n",
      "      Successfully uninstalled nvidia-nccl-cu12-2.23.4\n",
      "  Attempting uninstall: nvidia-curand-cu12\n",
      "    Found existing installation: nvidia-curand-cu12 10.3.6.82\n",
      "    Uninstalling nvidia-curand-cu12-10.3.6.82:\n",
      "      Successfully uninstalled nvidia-curand-cu12-10.3.6.82\n",
      "  Attempting uninstall: nvidia-cufft-cu12\n",
      "    Found existing installation: nvidia-cufft-cu12 11.2.3.61\n",
      "    Uninstalling nvidia-cufft-cu12-11.2.3.61:\n",
      "      Successfully uninstalled nvidia-cufft-cu12-11.2.3.61\n",
      "  Attempting uninstall: nvidia-cuda-runtime-cu12\n",
      "    Found existing installation: nvidia-cuda-runtime-cu12 12.5.82\n",
      "    Uninstalling nvidia-cuda-runtime-cu12-12.5.82:\n",
      "      Successfully uninstalled nvidia-cuda-runtime-cu12-12.5.82\n",
      "  Attempting uninstall: nvidia-cuda-nvrtc-cu12\n",
      "    Found existing installation: nvidia-cuda-nvrtc-cu12 12.5.82\n",
      "    Uninstalling nvidia-cuda-nvrtc-cu12-12.5.82:\n",
      "      Successfully uninstalled nvidia-cuda-nvrtc-cu12-12.5.82\n",
      "  Attempting uninstall: nvidia-cuda-cupti-cu12\n",
      "    Found existing installation: nvidia-cuda-cupti-cu12 12.5.82\n",
      "    Uninstalling nvidia-cuda-cupti-cu12-12.5.82:\n",
      "      Successfully uninstalled nvidia-cuda-cupti-cu12-12.5.82\n",
      "  Attempting uninstall: nvidia-cublas-cu12\n",
      "    Found existing installation: nvidia-cublas-cu12 12.5.3.2\n",
      "    Uninstalling nvidia-cublas-cu12-12.5.3.2:\n",
      "      Successfully uninstalled nvidia-cublas-cu12-12.5.3.2\n",
      "  Attempting uninstall: nvidia-cusparse-cu12\n",
      "    Found existing installation: nvidia-cusparse-cu12 12.5.1.3\n",
      "    Uninstalling nvidia-cusparse-cu12-12.5.1.3:\n",
      "      Successfully uninstalled nvidia-cusparse-cu12-12.5.1.3\n",
      "  Attempting uninstall: nvidia-cudnn-cu12\n",
      "    Found existing installation: nvidia-cudnn-cu12 9.3.0.75\n",
      "    Uninstalling nvidia-cudnn-cu12-9.3.0.75:\n",
      "      Successfully uninstalled nvidia-cudnn-cu12-9.3.0.75\n",
      "  Attempting uninstall: nvidia-cusolver-cu12\n",
      "    Found existing installation: nvidia-cusolver-cu12 11.6.3.83\n",
      "    Uninstalling nvidia-cusolver-cu12-11.6.3.83:\n",
      "      Successfully uninstalled nvidia-cusolver-cu12-11.6.3.83\n",
      "Successfully installed affine-2.4.0 click-plugins-1.1.1.2 cligj-0.7.2 nvidia-cublas-cu12-12.4.5.8 nvidia-cuda-cupti-cu12-12.4.127 nvidia-cuda-nvrtc-cu12-12.4.127 nvidia-cuda-runtime-cu12-12.4.127 nvidia-cudnn-cu12-9.1.0.70 nvidia-cufft-cu12-11.2.1.3 nvidia-curand-cu12-10.3.5.147 nvidia-cusolver-cu12-11.6.1.9 nvidia-cusparse-cu12-12.3.1.170 nvidia-nccl-cu12-2.21.5 nvidia-nvjitlink-cu12-12.4.127 rasterio-1.4.3\n",
      "/content/DLAM_SealedSurfaces/src\n"
     ]
    }
   ],
   "source": [
    "!pip install -r requirements.txt\n",
    "%cd src"
   ],
   "metadata": {
    "ExecuteTime": {
     "end_time": "2025-08-13T17:52:27.977165442Z",
     "start_time": "2025-08-13T17:52:25.177556217Z"
    },
    "colab": {
     "base_uri": "https://localhost:8080/"
    },
    "id": "25f323fd92b4d052",
    "outputId": "decee2f8-e417-4d20-8139-382d4c158656"
   },
   "id": "25f323fd92b4d052"
  },
  {
   "cell_type": "code",
   "execution_count": 3,
   "outputs": [],
   "source": [
    "from torch.utils.data import DataLoader\n",
    "from torch import nn\n",
    "from torch.optim import AdamW\n",
    "\n",
    "from settings import *\n",
    "from dataset import PotsdamDataset, get_data_loaders\n",
    "from models import custom_resnet18, baseline_deeplabv3_resnet101, seg_former\n",
    "from train import train_loop, set_requires_grad"
   ],
   "metadata": {
    "ExecuteTime": {
     "end_time": "2025-08-13T17:52:32.638695045Z",
     "start_time": "2025-08-13T17:52:27.988397404Z"
    },
    "id": "initial_id"
   },
   "id": "initial_id"
  },
  {
   "cell_type": "code",
   "execution_count": 4,
   "outputs": [
    {
     "output_type": "stream",
     "name": "stdout",
     "text": [
      "Mounted at /content/drive/\n"
     ]
    }
   ],
   "source": [
    "try:\n",
    "    import os\n",
    "    import shutil\n",
    "    from google.colab import drive\n",
    "    MOUNTPOINT = '/content/drive/'\n",
    "    drive.mount(MOUNTPOINT)\n",
    "\n",
    "    IMAGE_PATH = os.path.join(MOUNTPOINT, 'MyDrive', 'DLAM', '2_Ortho_RGB') # TODO adjust to your path\n",
    "    LABEL_PATH = os.path.join(MOUNTPOINT, 'MyDrive', 'DLAM', '5_Labels_all') # TODO adjust to your path\n",
    "\n",
    "    SAVE_PATH = MOUNTPOINT + 'MyDrive/DLAM/models/'\n",
    "    PLOT_PATH = MOUNTPOINT + 'MyDrive/DLAM/plots/'\n",
    "except:\n",
    "    IMAGE_PATH = '../data/2_Ortho_RGB' # TODO adjust to your path\n",
    "    LABEL_PATH = '../data/5_Labels_all' # TODO adjust to your path\n",
    "    SAVE_PATH = '../models/'\n",
    "    PLOT_PATH = '../plots/'\n",
    "os.makedirs(SAVE_PATH, exist_ok=True)\n",
    "os.makedirs(PLOT_PATH, exist_ok=True)"
   ],
   "metadata": {
    "ExecuteTime": {
     "end_time": "2025-08-13T17:52:32.646961123Z",
     "start_time": "2025-08-13T17:52:32.641051573Z"
    },
    "colab": {
     "base_uri": "https://localhost:8080/"
    },
    "id": "de7835d6a5e58021",
    "outputId": "85de11fa-c69c-4796-dbe3-a237bcdb4392"
   },
   "id": "de7835d6a5e58021"
  },
  {
   "metadata": {
    "id": "44df164b5bb185ac",
    "ExecuteTime": {
     "end_time": "2025-08-13T17:52:32.654008967Z",
     "start_time": "2025-08-13T17:52:32.642345326Z"
    }
   },
   "cell_type": "code",
   "outputs": [],
   "execution_count": 7,
   "source": [
    "# Hyperparameters\n",
    "patch_size = 250\n",
    "stride = 250\n",
    "batch_size = 32\n",
    "num_epochs = 20\n",
    "lr = 0.001\n",
    "weight_decay = 1e-2\n",
    "num_classes = PotsdamDataset.get_num_classes()"
   ],
   "id": "44df164b5bb185ac"
  },
  {
   "cell_type": "markdown",
   "source": [
    "# Train resnet18"
   ],
   "metadata": {
    "collapsed": false,
    "id": "e577378afa3c0290"
   },
   "id": "e577378afa3c0290"
  },
  {
   "metadata": {
    "id": "4d749718eca0e3bc",
    "ExecuteTime": {
     "end_time": "2025-08-13T17:53:18.787126693Z",
     "start_time": "2025-08-13T17:52:32.650449455Z"
    },
    "colab": {
     "base_uri": "https://localhost:8080/",
     "height": 1000
    },
    "outputId": "13cb1d20-9f6e-4b16-8e4e-db298e776dd3"
   },
   "cell_type": "code",
   "outputs": [
    {
     "output_type": "stream",
     "name": "stderr",
     "text": [
      "Building index: 100%|██████████| 24/24 [00:00<00:00, 7154.46it/s]\n"
     ]
    },
    {
     "output_type": "stream",
     "name": "stdout",
     "text": [
      "Epoch 1 / 20: Train Loss = 1.0988\n"
     ]
    },
    {
     "output_type": "stream",
     "name": "stderr",
     "text": []
    },
    {
     "output_type": "stream",
     "name": "stdout",
     "text": [
      "Epoch 1: Validation Loss = 1.0113\n",
      "Validation improved — model saved to /content/drive/MyDrive/DLAM/models/resnet18.pth\n"
     ]
    },
    {
     "output_type": "stream",
     "name": "stderr",
     "text": []
    },
    {
     "output_type": "stream",
     "name": "stdout",
     "text": [
      "Epoch 2 / 20: Train Loss = 0.9929\n"
     ]
    },
    {
     "output_type": "stream",
     "name": "stderr",
     "text": []
    },
    {
     "output_type": "stream",
     "name": "stdout",
     "text": [
      "Epoch 2: Validation Loss = 0.9905\n",
      "Validation improved — model saved to /content/drive/MyDrive/DLAM/models/resnet18.pth\n"
     ]
    },
    {
     "output_type": "stream",
     "name": "stderr",
     "text": []
    },
    {
     "output_type": "stream",
     "name": "stdout",
     "text": [
      "Epoch 3 / 20: Train Loss = 0.9711\n"
     ]
    },
    {
     "output_type": "stream",
     "name": "stderr",
     "text": []
    },
    {
     "output_type": "stream",
     "name": "stdout",
     "text": [
      "Epoch 3: Validation Loss = 0.9721\n",
      "Validation improved — model saved to /content/drive/MyDrive/DLAM/models/resnet18.pth\n"
     ]
    },
    {
     "output_type": "stream",
     "name": "stderr",
     "text": []
    },
    {
     "output_type": "stream",
     "name": "stdout",
     "text": [
      "Epoch 4 / 20: Train Loss = 0.9588\n"
     ]
    },
    {
     "output_type": "stream",
     "name": "stderr",
     "text": []
    },
    {
     "output_type": "stream",
     "name": "stdout",
     "text": [
      "Epoch 4: Validation Loss = 0.9699\n",
      "Validation improved — model saved to /content/drive/MyDrive/DLAM/models/resnet18.pth\n"
     ]
    },
    {
     "output_type": "stream",
     "name": "stderr",
     "text": []
    },
    {
     "output_type": "stream",
     "name": "stdout",
     "text": [
      "Epoch 5 / 20: Train Loss = 0.9467\n"
     ]
    },
    {
     "output_type": "stream",
     "name": "stderr",
     "text": []
    },
    {
     "output_type": "stream",
     "name": "stdout",
     "text": [
      "Epoch 5: Validation Loss = 0.9676\n",
      "Validation improved — model saved to /content/drive/MyDrive/DLAM/models/resnet18.pth\n"
     ]
    },
    {
     "output_type": "stream",
     "name": "stderr",
     "text": []
    },
    {
     "output_type": "stream",
     "name": "stdout",
     "text": [
      "Epoch 6 / 20: Train Loss = 0.9442\n"
     ]
    },
    {
     "output_type": "stream",
     "name": "stderr",
     "text": []
    },
    {
     "output_type": "stream",
     "name": "stdout",
     "text": [
      "Epoch 6: Validation Loss = 0.9570\n",
      "Validation improved — model saved to /content/drive/MyDrive/DLAM/models/resnet18.pth\n"
     ]
    },
    {
     "output_type": "stream",
     "name": "stderr",
     "text": []
    },
    {
     "output_type": "stream",
     "name": "stdout",
     "text": [
      "Epoch 7 / 20: Train Loss = 0.9341\n"
     ]
    },
    {
     "output_type": "stream",
     "name": "stderr",
     "text": []
    },
    {
     "output_type": "stream",
     "name": "stdout",
     "text": [
      "Epoch 7: Validation Loss = 0.9633\n",
      "No improvement for 1 epoch(s)\n"
     ]
    },
    {
     "output_type": "stream",
     "name": "stderr",
     "text": []
    },
    {
     "output_type": "stream",
     "name": "stdout",
     "text": [
      "Epoch 8 / 20: Train Loss = 0.9344\n"
     ]
    },
    {
     "output_type": "stream",
     "name": "stderr",
     "text": []
    },
    {
     "output_type": "stream",
     "name": "stdout",
     "text": [
      "Epoch 8: Validation Loss = 0.9625\n",
      "No improvement for 2 epoch(s)\n"
     ]
    },
    {
     "output_type": "stream",
     "name": "stderr",
     "text": []
    },
    {
     "output_type": "stream",
     "name": "stdout",
     "text": [
      "Epoch 9 / 20: Train Loss = 0.9329\n"
     ]
    },
    {
     "output_type": "stream",
     "name": "stderr",
     "text": []
    },
    {
     "output_type": "stream",
     "name": "stdout",
     "text": [
      "Epoch 9: Validation Loss = 0.9611\n",
      "No improvement for 3 epoch(s)\n"
     ]
    },
    {
     "output_type": "stream",
     "name": "stderr",
     "text": []
    },
    {
     "output_type": "stream",
     "name": "stdout",
     "text": [
      "Epoch 10 / 20: Train Loss = 0.9273\n"
     ]
    },
    {
     "output_type": "stream",
     "name": "stderr",
     "text": []
    },
    {
     "output_type": "stream",
     "name": "stdout",
     "text": [
      "Epoch 10: Validation Loss = 0.9550\n",
      "Validation improved — model saved to /content/drive/MyDrive/DLAM/models/resnet18.pth\n"
     ]
    },
    {
     "output_type": "stream",
     "name": "stderr",
     "text": []
    },
    {
     "output_type": "stream",
     "name": "stdout",
     "text": [
      "Epoch 11 / 20: Train Loss = 0.9294\n"
     ]
    },
    {
     "output_type": "stream",
     "name": "stderr",
     "text": []
    },
    {
     "output_type": "stream",
     "name": "stdout",
     "text": [
      "Epoch 11: Validation Loss = 0.9622\n",
      "No improvement for 1 epoch(s)\n"
     ]
    },
    {
     "output_type": "stream",
     "name": "stderr",
     "text": []
    },
    {
     "output_type": "stream",
     "name": "stdout",
     "text": [
      "Epoch 12 / 20: Train Loss = 0.9261\n"
     ]
    },
    {
     "output_type": "stream",
     "name": "stderr",
     "text": []
    },
    {
     "output_type": "stream",
     "name": "stdout",
     "text": [
      "Epoch 12: Validation Loss = 0.9705\n",
      "No improvement for 2 epoch(s)\n"
     ]
    },
    {
     "output_type": "stream",
     "name": "stderr",
     "text": []
    },
    {
     "output_type": "stream",
     "name": "stdout",
     "text": [
      "Epoch 13 / 20: Train Loss = 0.9214\n"
     ]
    },
    {
     "output_type": "stream",
     "name": "stderr",
     "text": []
    },
    {
     "output_type": "stream",
     "name": "stdout",
     "text": [
      "Epoch 13: Validation Loss = 0.9547\n",
      "Validation improved — model saved to /content/drive/MyDrive/DLAM/models/resnet18.pth\n"
     ]
    },
    {
     "output_type": "stream",
     "name": "stderr",
     "text": []
    },
    {
     "output_type": "stream",
     "name": "stdout",
     "text": [
      "Epoch 14 / 20: Train Loss = 0.9226\n"
     ]
    },
    {
     "output_type": "stream",
     "name": "stderr",
     "text": []
    },
    {
     "output_type": "stream",
     "name": "stdout",
     "text": [
      "Epoch 14: Validation Loss = 0.9527\n",
      "Validation improved — model saved to /content/drive/MyDrive/DLAM/models/resnet18.pth\n"
     ]
    },
    {
     "output_type": "stream",
     "name": "stderr",
     "text": []
    },
    {
     "output_type": "stream",
     "name": "stdout",
     "text": [
      "Epoch 15 / 20: Train Loss = 0.9200\n"
     ]
    },
    {
     "output_type": "stream",
     "name": "stderr",
     "text": []
    },
    {
     "output_type": "stream",
     "name": "stdout",
     "text": [
      "Epoch 15: Validation Loss = 0.9498\n",
      "Validation improved — model saved to /content/drive/MyDrive/DLAM/models/resnet18.pth\n"
     ]
    },
    {
     "output_type": "stream",
     "name": "stderr",
     "text": []
    },
    {
     "output_type": "stream",
     "name": "stdout",
     "text": [
      "Epoch 16 / 20: Train Loss = 0.9178\n"
     ]
    },
    {
     "output_type": "stream",
     "name": "stderr",
     "text": []
    },
    {
     "output_type": "stream",
     "name": "stdout",
     "text": [
      "Epoch 16: Validation Loss = 0.9553\n",
      "No improvement for 1 epoch(s)\n"
     ]
    },
    {
     "output_type": "stream",
     "name": "stderr",
     "text": []
    },
    {
     "output_type": "stream",
     "name": "stdout",
     "text": [
      "Epoch 17 / 20: Train Loss = 0.9188\n"
     ]
    },
    {
     "output_type": "stream",
     "name": "stderr",
     "text": []
    },
    {
     "output_type": "stream",
     "name": "stdout",
     "text": [
      "Epoch 17: Validation Loss = 0.9629\n",
      "No improvement for 2 epoch(s)\n"
     ]
    },
    {
     "output_type": "stream",
     "name": "stderr",
     "text": []
    },
    {
     "output_type": "stream",
     "name": "stdout",
     "text": [
      "Epoch 18 / 20: Train Loss = 0.9174\n"
     ]
    },
    {
     "output_type": "stream",
     "name": "stderr",
     "text": []
    },
    {
     "output_type": "stream",
     "name": "stdout",
     "text": [
      "Epoch 18: Validation Loss = 0.9602\n",
      "No improvement for 3 epoch(s)\n"
     ]
    },
    {
     "output_type": "stream",
     "name": "stderr",
     "text": []
    },
    {
     "output_type": "stream",
     "name": "stdout",
     "text": [
      "Epoch 19 / 20: Train Loss = 0.9164\n"
     ]
    },
    {
     "output_type": "stream",
     "name": "stderr",
     "text": []
    },
    {
     "output_type": "stream",
     "name": "stdout",
     "text": [
      "Epoch 19: Validation Loss = 0.9543\n",
      "No improvement for 4 epoch(s)\n"
     ]
    },
    {
     "output_type": "stream",
     "name": "stderr",
     "text": []
    },
    {
     "output_type": "stream",
     "name": "stdout",
     "text": [
      "Epoch 20 / 20: Train Loss = 0.9152\n"
     ]
    },
    {
     "output_type": "stream",
     "name": "stderr",
     "text": []
    },
    {
     "output_type": "stream",
     "name": "stdout",
     "text": [
      "Epoch 20: Validation Loss = 0.9597\n",
      "No improvement for 5 epoch(s)\n",
      "Early stopping triggered!\n",
      "Loss plot saved to /content/drive/MyDrive/DLAM/plots/resnet18.png\n"
     ]
    },
    {
     "output_type": "display_data",
     "data": {
      "text/plain": [
       "<Figure size 1000x600 with 1 Axes>"
      ],
      "image/png": "[encoded data removed]"
     },
     "metadata": {}
    }
   ],
   "execution_count": 8,
   "source": [
    "dataset = PotsdamDataset(IMAGE_PATH, LABEL_PATH, patch_size=patch_size, stride=stride, device=DEVICE)\n",
    "train_loader, val_loader, test_loader = get_data_loaders(dataset, dist=[0.8, 0.1, 0.1], batch_size=batch_size, pin_memory=True, num_workers=4)\n",
    "\n",
    "model = custom_resnet18(patch_size=patch_size, num_classes=num_classes, device=DEVICE)\n",
    "loss_fn = nn.CrossEntropyLoss()\n",
    "optimizer = AdamW(model.parameters(), lr=lr)\n",
    "\n",
    "train_loop(train_loader=train_loader, val_loader=val_loader, model=model, loss_fn=loss_fn, optimizer=optimizer, num_epochs=num_epochs, device=DEVICE, save_path=SAVE_PATH + 'resnet18.pth', model_type='ResNet18', plot_path=PLOT_PATH + 'resnet18.png', patch_size=patch_size, num_classes=num_classes)"
   ],
   "id": "4d749718eca0e3bc"
  },
  {
   "cell_type": "markdown",
   "source": [
    "# Train DeepLabV3 resnet101 baseline"
   ],
   "metadata": {
    "collapsed": false,
    "id": "1feb801cdbb86dba"
   },
   "id": "1feb801cdbb86dba"
  },
  {
   "cell_type": "code",
   "execution_count": null,
   "outputs": [],
   "source": [
    "train_loader, val_loader, test_loader = get_data_loaders(IMAGE_PATH, LABEL_PATH,patch_size,\n",
    "                     stride,\n",
    "                     dist=[0.8, 0.1, 0.1],\n",
    "                     batch_size=batch_size,\n",
    "                     device=DEVICE,\n",
    "                     mode=\"single\",\n",
    "                     pin_memory=True,\n",
    "                     num_workers=4,\n",
    "                     seed=42)\n",
    "\n",
    "model = baseline_deeplabv3_resnet101(num_classes=num_classes, device=DEVICE)\n",
    "loss_fn = nn.CrossEntropyLoss()\n",
    "\n",
    "# ---------- Stage 1: Train decoder only ----------\n",
    "set_requires_grad(model.backbone, False)\n",
    "set_requires_grad(model.classifier, True)\n",
    "\n",
    "optimizer = AdamW(model.classifier.parameters(), lr=1e-3, weight_decay=1e-4)\n",
    "\n",
    "train_loop(train_loader, val_loader, model, loss_fn, optimizer,\n",
    "           num_epochs=20, device=DEVICE,\n",
    "           save_path=SAVE_PATH + 'deeplab_stage1.pth',\n",
    "           model_type='DeepLabV3', plot_path=PLOT_PATH + 'deeplab_stage1.png',\n",
    "           patch_size=patch_size, num_classes=num_classes)\n",
    "\n",
    "# ---------- Stage 2: Unfreeze last ResNet block ----------\n",
    "set_requires_grad(model.backbone.layer4, True)\n",
    "\n",
    "optimizer = AdamW([\n",
    "    {\"params\": model.backbone.layer4.parameters(), \"lr\": 1e-5, \"weight_decay\": 1e-4},\n",
    "    {\"params\": model.classifier.parameters(), \"lr\": 1e-3, \"weight_decay\": 1e-4},\n",
    "])\n",
    "\n",
    "train_loop(train_loader, val_loader, model, loss_fn, optimizer,\n",
    "           num_epochs=20, device=DEVICE,\n",
    "           save_path=SAVE_PATH + 'deeplab_stage2.pth',\n",
    "           model_type='DeepLabV3', plot_path=PLOT_PATH + 'deeplab_stage2.png',\n",
    "           patch_size=patch_size, num_classes=num_classes)\n",
    "\n",
    "# ---------- Stage 3: Full fine-tune ----------\n",
    "set_requires_grad(model.backbone, True)\n",
    "\n",
    "optimizer = AdamW([\n",
    "    {\"params\": model.backbone.parameters(), \"lr\": 1e-5, \"weight_decay\": 1e-4},\n",
    "    {\"params\": model.classifier.parameters(), \"lr\": 1e-4, \"weight_decay\": 1e-4},\n",
    "])\n",
    "\n",
    "train_loop(train_loader, val_loader, model, loss_fn, optimizer,\n",
    "           num_epochs=30, device=DEVICE,\n",
    "           save_path=SAVE_PATH + 'deeplab_stage3.pth',\n",
    "           model_type='DeepLabV3', plot_path=PLOT_PATH + 'deeplab_stage3.png',\n",
    "           patch_size=patch_size, num_classes=num_classes)"
   ],
   "metadata": {
    "collapsed": false
   },
   "id": "4ad71ea2e14599de"
  },
  {
   "cell_type": "markdown",
   "source": [
    "# Train SegFormer"
   ],
   "metadata": {
    "collapsed": false,
    "id": "b212da15242a4ac5"
   },
   "id": "b212da15242a4ac5"
  },
  {
   "cell_type": "code",
   "execution_count": null,
   "outputs": [],
   "source": [
    "# --- Data ---\n",
    "train_loader, val_loader, test_loader = get_data_loaders(IMAGE_PATH, LABEL_PATH,patch_size,\n",
    "                     stride,\n",
    "                     dist=[0.8, 0.1, 0.1],\n",
    "                     batch_size=batch_size,\n",
    "                     device=DEVICE,\n",
    "                     mode=\"single\",\n",
    "                     pin_memory=True,\n",
    "                     num_workers=4,\n",
    "                     seed=42)\n",
    "\n",
    "# --- Model ---\n",
    "model = seg_former(num_classes, DEVICE)\n",
    "loss_fn = nn.CrossEntropyLoss()\n",
    "\n",
    "# ---------- Stage 1: Train decoder only ----------\n",
    "set_requires_grad(model.segformer.encoder, False)\n",
    "\n",
    "optimizer = AdamW(model.decode_head.parameters(), lr=1e-3, weight_decay=1e-4)\n",
    "\n",
    "train_loop(train_loader, val_loader, model, loss_fn, optimizer,\n",
    "           num_epochs=20, device=DEVICE,\n",
    "           save_path=SAVE_PATH + 'segformer_stage1.pth',\n",
    "           model_type='SegFormer', plot_path=PLOT_PATH + 'segformer_stage1.png',\n",
    "           patch_size=patch_size, num_classes=num_classes)\n",
    "\n",
    "# ---------- Stage 2: Unfreeze last encoder block ----------\n",
    "set_requires_grad(model.segformer.encoder, False)\n",
    "set_requires_grad(model.segformer.encoder.block4, True)\n",
    "\n",
    "optimizer = AdamW([\n",
    "    {\"params\": model.segformer.encoder.block4.parameters(), \"lr\": 1e-5, \"weight_decay\": 1e-4},\n",
    "    {\"params\": model.decode_head.parameters(), \"lr\": 1e-3, \"weight_decay\": 1e-4},\n",
    "])\n",
    "\n",
    "train_loop(train_loader, val_loader, model, loss_fn, optimizer,\n",
    "           num_epochs=20, device=DEVICE,\n",
    "           save_path=SAVE_PATH + 'segformer_stage2.pth',\n",
    "           model_type='SegFormer', plot_path=PLOT_PATH + 'segformer_stage2.png',\n",
    "           patch_size=patch_size, num_classes=num_classes)\n",
    "\n",
    "# ---------- Stage 3: Full fine-tune ----------\n",
    "set_requires_grad(model.segformer.encoder, True)\n",
    "\n",
    "optimizer = AdamW([\n",
    "    {\"params\": model.segformer.encoder.parameters(), \"lr\": 1e-5, \"weight_decay\": 1e-4},\n",
    "    {\"params\": model.decode_head.parameters(), \"lr\": 1e-4, \"weight_decay\": 1e-4},\n",
    "])\n",
    "\n",
    "train_loop(train_loader, val_loader, model, loss_fn, optimizer,\n",
    "           num_epochs=30, device=DEVICE,\n",
    "           save_path=SAVE_PATH + 'segformer_stage3.pth',\n",
    "           model_type='SegFormer', plot_path=PLOT_PATH + 'segformer_stage3.png',\n",
    "           patch_size=patch_size, num_classes=num_classes)"
   ],
   "metadata": {
    "ExecuteTime": {
     "end_time": "2025-08-13T17:53:18.792964663Z",
     "start_time": "2025-08-13T17:53:18.788640815Z"
    },
    "id": "5ad10e6b9efe5090"
   },
   "id": "5ad10e6b9efe5090"
  },
  {
   "cell_type": "code",
   "execution_count": null,
   "outputs": [],
   "source": [],
   "metadata": {
    "ExecuteTime": {
     "start_time": "2025-08-13T17:53:18.789136162Z"
    },
    "id": "c98e87d0bc192c47"
   },
   "id": "c98e87d0bc192c47"
  }
 ],
 "metadata": {
  "kernelspec": {
   "display_name": "Python 3",
   "name": "python3"
  },
  "language_info": {
   "codemirror_mode": {
    "name": "ipython",
    "version": 2
   },
   "file_extension": ".py",
   "mimetype": "text/x-python",
   "name": "python",
   "nbconvert_exporter": "python",
   "pygments_lexer": "ipython2",
   "version": "2.7.6"
  },
  "colab": {
   "provenance": [],
   "gpuType": "A100"
  },
  "accelerator": "GPU"
 },
 "nbformat": 4,
 "nbformat_minor": 5
}
