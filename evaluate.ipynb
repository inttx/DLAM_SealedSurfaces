{
 "cells": [
  {
   "metadata": {},
   "cell_type": "code",
   "outputs": [],
   "execution_count": null,
   "source": [
    "from src.dataset import CustomDataset\n",
    "!git clone https://github.com/inttx/DLAM_SealedSurfaces.git\n",
    "%cd DLAM_SealedSurfaces"
   ],
   "id": "2284c9fa60f6ccfe"
  },
  {
   "metadata": {},
   "cell_type": "code",
   "outputs": [],
   "execution_count": null,
   "source": [
    "!pip install -r requirements.txt\n",
    "%cd src"
   ],
   "id": "55b40bb1639c5be6"
  },
  {
   "metadata": {},
   "cell_type": "code",
   "outputs": [],
   "execution_count": null,
   "source": [
    "from settings import *\n",
    "from dataset import CustomDataset, PotsdamDataset, HessigheimDataset\n",
    "from models import get_trained_custom_resnet18, get_trained_deeplabv3_resnet101, get_trained_segformer_model\n",
    "from evaluate import evaluate_segmentation"
   ],
   "id": "e4efb3c18ad2f336"
  },
  {
   "metadata": {},
   "cell_type": "code",
   "outputs": [],
   "execution_count": null,
   "source": [
    "try:\n",
    "    import os\n",
    "    import shutil\n",
    "    from google.colab import drive\n",
    "    MOUNTPOINT = '/content/drive/'\n",
    "    drive.mount(MOUNTPOINT)\n",
    "\n",
    "    IMAGE_PATH = os.path.join(MOUNTPOINT, 'MyDrive', 'DLAM', '2_Ortho_RGB') # TODO adjust to your path\n",
    "    LABEL_PATH = os.path.join(MOUNTPOINT, 'MyDrive', 'DLAM', '5_Labels_all') # TODO adjust to your path\n",
    "\n",
    "    EVAL_PATH = MOUNTPOINT + 'MyDrive/DLAM/eval/'\n",
    "except:\n",
    "    IMAGE_PATH = '../data/2_Ortho_RGB' # TODO adjust to your path\n",
    "    LABEL_PATH = '../data/5_Labels_all' # TODO adjust to your path\n",
    "    EVAL_PATH = '../eval/'\n",
    "os.makedirs(EVAL_PATH, exist_ok=True)"
   ],
   "id": "256bf653c53cd359"
  },
  {
   "metadata": {},
   "cell_type": "code",
   "outputs": [],
   "execution_count": null,
   "source": [
    "# Hyperparameters\n",
    "patch_size = 250\n",
    "stride = 250\n",
    "batch_size = 8\n",
    "classification_mode = \"single\" # or \"combined\"\n",
    "\n",
    "datasetType: type[CustomDataset] = PotsdamDataset # or HessigheimDataset\n",
    "num_classes = datasetType.get_num_classes(classification_mode)\n",
    "class_names = datasetType.class_names_single() if classification_mode == \"single\" else datasetType.class_names_combined()"
   ],
   "id": "10f57f66efffd137"
  },
  {
   "metadata": {},
   "cell_type": "markdown",
   "source": "# Train resnet18",
   "id": "95eb8dd32b7b9f80"
  },
  {
   "metadata": {},
   "cell_type": "code",
   "outputs": [],
   "execution_count": null,
   "source": [
    "dataset = datasetType(IMAGE_PATH, LABEL_PATH, patch_size=patch_size, stride=stride, device=DEVICE)\n",
    "train_loader, val_loader, test_loader = datasetType.get_data_loaders(IMAGE_PATH, LABEL_PATH,patch_size,\n",
    "                     stride,\n",
    "                     dist=(0.8, 0.1, 0.1),\n",
    "                     batch_size=batch_size,\n",
    "                     device=DEVICE,\n",
    "                     mode=classification_mode,\n",
    "                     pin_memory=True,\n",
    "                     num_workers=2,\n",
    "                     seed=42)\n",
    "\n",
    "model = get_trained_custom_resnet18(model_path='../models/resnet18.pth', patch_size=patch_size, num_classes=num_classes, device=DEVICE)\n",
    "evaluate_segmentation(model=model, data_loader=test_loader, device=DEVICE, model_type='ResNet18', class_names=class_names, patch_size=patch_size, eval_path=EVAL_PATH + 'resnet18.svg')"
   ],
   "id": "6434557909888013"
  },
  {
   "cell_type": "markdown",
   "source": [
    "# Train DeepLabV3 resnet101 baseline"
   ],
   "metadata": {
    "collapsed": false
   },
   "id": "1feb801cdbb86dba"
  },
  {
   "metadata": {},
   "cell_type": "code",
   "outputs": [],
   "execution_count": null,
   "source": [
    "dataset = datasetType(IMAGE_PATH, LABEL_PATH, patch_size=patch_size, stride=stride, device=DEVICE)\n",
    "train_loader, val_loader, test_loader = datasetType.get_data_loaders(IMAGE_PATH, LABEL_PATH,patch_size,\n",
    "                     stride,\n",
    "                     dist=(0.8, 0.1, 0.1),\n",
    "                     batch_size=batch_size,\n",
    "                     device=DEVICE,\n",
    "                     mode=classification_mode,\n",
    "                     pin_memory=True,\n",
    "                     num_workers=2,\n",
    "                     seed=42)\n",
    "\n",
    "model = get_trained_deeplabv3_resnet101(model_path='../models/deeplabv3_resnet101.pth', num_classes=num_classes, device=DEVICE)\n",
    "\n",
    "evaluate_segmentation(model=model, data_loader=test_loader, device=DEVICE, model_type='DeepLabV3', class_names=class_names, patch_size=patch_size, eval_path=EVAL_PATH + 'deeplabv3_resnet101.svg')"
   ],
   "id": "70b623cc7404789a"
  },
  {
   "cell_type": "markdown",
   "source": [
    "# Train SegFormer"
   ],
   "metadata": {
    "collapsed": false
   },
   "id": "b212da15242a4ac5"
  },
  {
   "metadata": {},
   "cell_type": "code",
   "outputs": [],
   "execution_count": null,
   "source": [
    "dataset = datasetType(IMAGE_PATH, LABEL_PATH, patch_size=patch_size, stride=stride, device=DEVICE)\n",
    "train_loader, val_loader, test_loader = datasetType.get_data_loaders(IMAGE_PATH, LABEL_PATH,patch_size,\n",
    "                     stride,\n",
    "                     dist=(0.8, 0.1, 0.1),\n",
    "                     batch_size=batch_size,\n",
    "                     device=DEVICE,\n",
    "                     mode=classification_mode,\n",
    "                     pin_memory=True,\n",
    "                     num_workers=2,\n",
    "                     seed=42)\n",
    "\n",
    "model = get_trained_segformer_model('../models/segformer.pth', num_classes=num_classes, device=DEVICE)\n",
    "\n",
    "evaluate_segmentation(model=model, data_loader=test_loader, device=DEVICE, model_type='SegFormer', class_names=class_names, patch_size=patch_size, eval_path=EVAL_PATH + 'segformer.svg')"
   ],
   "id": "99e93a3a00f6fdf6"
  },
  {
   "metadata": {},
   "cell_type": "code",
   "outputs": [],
   "execution_count": null,
   "source": "",
   "id": "ed60dcbf8076f948"
  }
 ],
 "metadata": {
  "kernelspec": {
   "display_name": "Python 3",
   "language": "python",
   "name": "python3"
  },
  "language_info": {
   "codemirror_mode": {
    "name": "ipython",
    "version": 2
   },
   "file_extension": ".py",
   "mimetype": "text/x-python",
   "name": "python",
   "nbconvert_exporter": "python",
   "pygments_lexer": "ipython2",
   "version": "2.7.6"
  },
  "colab": {
   "provenance": []
  }
 },
 "nbformat": 4,
 "nbformat_minor": 5
}
