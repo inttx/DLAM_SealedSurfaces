{
 "cells": [
  {
   "cell_type": "code",
   "execution_count": 1,
   "outputs": [
    {
     "name": "stdout",
     "output_type": "stream",
     "text": [
      "Cloning into 'DLAM_SealedSurfaces'...\r\n",
      "remote: Enumerating objects: 124, done.\u001B[K\r\n",
      "remote: Counting objects: 100% (124/124), done.\u001B[K\r\n",
      "remote: Compressing objects: 100% (84/84), done.\u001B[K\r\n",
      "remote: Total 124 (delta 71), reused 77 (delta 35), pack-reused 0 (from 0)\u001B[K\r\n",
      "Receiving objects: 100% (124/124), 163.94 KiB | 6.83 MiB/s, done.\r\n",
      "Resolving deltas: 100% (71/71), done.\r\n",
      "/home/janina/PycharmProjects/DLAM_SealedSurfaces/DLAM_SealedSurfaces\n"
     ]
    }
   ],
   "source": [
    "!git clone https://github.com/inttx/DLAM_SealedSurfaces.git\n",
    "%cd DLAM_SealedSurfaces"
   ],
   "metadata": {
    "collapsed": false,
    "ExecuteTime": {
     "end_time": "2025-08-13T15:46:36.210993509Z",
     "start_time": "2025-08-13T15:46:35.547877389Z"
    }
   },
   "id": "78dde405835f5ea"
  },
  {
   "cell_type": "code",
   "source": [
    "!pip install -r requirements.txt\n",
    "%cd src"
   ],
   "metadata": {
    "collapsed": false,
    "ExecuteTime": {
     "end_time": "2025-09-15T19:44:50.919627Z",
     "start_time": "2025-09-15T19:44:10.343768Z"
    }
   },
   "id": "25f323fd92b4d052",
   "outputs": [
    {
     "name": "stdout",
     "output_type": "stream",
     "text": [
      "Requirement already satisfied: rasterio in c:\\users\\leon\\pycharmprojects\\dlam_sealedsurfaces\\.venv\\lib\\site-packages (from -r requirements.txt (line 1)) (1.4.3)\n",
      "Requirement already satisfied: torch in c:\\users\\leon\\pycharmprojects\\dlam_sealedsurfaces\\.venv\\lib\\site-packages (from -r requirements.txt (line 2)) (2.8.0)\n",
      "Requirement already satisfied: torchvision in c:\\users\\leon\\pycharmprojects\\dlam_sealedsurfaces\\.venv\\lib\\site-packages (from -r requirements.txt (line 3)) (0.23.0)\n",
      "Requirement already satisfied: tqdm in c:\\users\\leon\\pycharmprojects\\dlam_sealedsurfaces\\.venv\\lib\\site-packages (from -r requirements.txt (line 4)) (4.67.1)\n",
      "Requirement already satisfied: transformers in c:\\users\\leon\\pycharmprojects\\dlam_sealedsurfaces\\.venv\\lib\\site-packages (from -r requirements.txt (line 5)) (4.55.3)\n",
      "Requirement already satisfied: matplotlib in c:\\users\\leon\\pycharmprojects\\dlam_sealedsurfaces\\.venv\\lib\\site-packages (from -r requirements.txt (line 6)) (3.10.5)\n",
      "Collecting albumentations (from -r requirements.txt (line 7))\n",
      "  Downloading albumentations-2.0.8-py3-none-any.whl.metadata (43 kB)\n",
      "Requirement already satisfied: affine in c:\\users\\leon\\pycharmprojects\\dlam_sealedsurfaces\\.venv\\lib\\site-packages (from rasterio->-r requirements.txt (line 1)) (2.4.0)\n",
      "Requirement already satisfied: attrs in c:\\users\\leon\\pycharmprojects\\dlam_sealedsurfaces\\.venv\\lib\\site-packages (from rasterio->-r requirements.txt (line 1)) (25.3.0)\n",
      "Requirement already satisfied: certifi in c:\\users\\leon\\pycharmprojects\\dlam_sealedsurfaces\\.venv\\lib\\site-packages (from rasterio->-r requirements.txt (line 1)) (2025.8.3)\n",
      "Requirement already satisfied: click>=4.0 in c:\\users\\leon\\pycharmprojects\\dlam_sealedsurfaces\\.venv\\lib\\site-packages (from rasterio->-r requirements.txt (line 1)) (8.2.1)\n",
      "Requirement already satisfied: cligj>=0.5 in c:\\users\\leon\\pycharmprojects\\dlam_sealedsurfaces\\.venv\\lib\\site-packages (from rasterio->-r requirements.txt (line 1)) (0.7.2)\n",
      "Requirement already satisfied: numpy>=1.24 in c:\\users\\leon\\pycharmprojects\\dlam_sealedsurfaces\\.venv\\lib\\site-packages (from rasterio->-r requirements.txt (line 1)) (2.3.2)\n",
      "Requirement already satisfied: click-plugins in c:\\users\\leon\\pycharmprojects\\dlam_sealedsurfaces\\.venv\\lib\\site-packages (from rasterio->-r requirements.txt (line 1)) (1.1.1.2)\n",
      "Requirement already satisfied: pyparsing in c:\\users\\leon\\pycharmprojects\\dlam_sealedsurfaces\\.venv\\lib\\site-packages (from rasterio->-r requirements.txt (line 1)) (3.2.3)\n",
      "Requirement already satisfied: filelock in c:\\users\\leon\\pycharmprojects\\dlam_sealedsurfaces\\.venv\\lib\\site-packages (from torch->-r requirements.txt (line 2)) (3.19.1)\n",
      "Requirement already satisfied: typing-extensions>=4.10.0 in c:\\users\\leon\\pycharmprojects\\dlam_sealedsurfaces\\.venv\\lib\\site-packages (from torch->-r requirements.txt (line 2)) (4.14.1)\n",
      "Requirement already satisfied: sympy>=1.13.3 in c:\\users\\leon\\pycharmprojects\\dlam_sealedsurfaces\\.venv\\lib\\site-packages (from torch->-r requirements.txt (line 2)) (1.14.0)\n",
      "Requirement already satisfied: networkx in c:\\users\\leon\\pycharmprojects\\dlam_sealedsurfaces\\.venv\\lib\\site-packages (from torch->-r requirements.txt (line 2)) (3.5)\n",
      "Requirement already satisfied: jinja2 in c:\\users\\leon\\pycharmprojects\\dlam_sealedsurfaces\\.venv\\lib\\site-packages (from torch->-r requirements.txt (line 2)) (3.1.6)\n",
      "Requirement already satisfied: fsspec in c:\\users\\leon\\pycharmprojects\\dlam_sealedsurfaces\\.venv\\lib\\site-packages (from torch->-r requirements.txt (line 2)) (2025.7.0)\n",
      "Requirement already satisfied: setuptools in c:\\users\\leon\\pycharmprojects\\dlam_sealedsurfaces\\.venv\\lib\\site-packages (from torch->-r requirements.txt (line 2)) (80.9.0)\n",
      "Requirement already satisfied: pillow!=8.3.*,>=5.3.0 in c:\\users\\leon\\pycharmprojects\\dlam_sealedsurfaces\\.venv\\lib\\site-packages (from torchvision->-r requirements.txt (line 3)) (11.3.0)\n",
      "Requirement already satisfied: colorama in c:\\users\\leon\\pycharmprojects\\dlam_sealedsurfaces\\.venv\\lib\\site-packages (from tqdm->-r requirements.txt (line 4)) (0.4.6)\n",
      "Requirement already satisfied: huggingface-hub<1.0,>=0.34.0 in c:\\users\\leon\\pycharmprojects\\dlam_sealedsurfaces\\.venv\\lib\\site-packages (from transformers->-r requirements.txt (line 5)) (0.34.4)\n",
      "Requirement already satisfied: packaging>=20.0 in c:\\users\\leon\\pycharmprojects\\dlam_sealedsurfaces\\.venv\\lib\\site-packages (from transformers->-r requirements.txt (line 5)) (25.0)\n",
      "Requirement already satisfied: pyyaml>=5.1 in c:\\users\\leon\\pycharmprojects\\dlam_sealedsurfaces\\.venv\\lib\\site-packages (from transformers->-r requirements.txt (line 5)) (6.0.2)\n",
      "Requirement already satisfied: regex!=2019.12.17 in c:\\users\\leon\\pycharmprojects\\dlam_sealedsurfaces\\.venv\\lib\\site-packages (from transformers->-r requirements.txt (line 5)) (2025.7.34)\n",
      "Requirement already satisfied: requests in c:\\users\\leon\\pycharmprojects\\dlam_sealedsurfaces\\.venv\\lib\\site-packages (from transformers->-r requirements.txt (line 5)) (2.32.5)\n",
      "Requirement already satisfied: tokenizers<0.22,>=0.21 in c:\\users\\leon\\pycharmprojects\\dlam_sealedsurfaces\\.venv\\lib\\site-packages (from transformers->-r requirements.txt (line 5)) (0.21.4)\n",
      "Requirement already satisfied: safetensors>=0.4.3 in c:\\users\\leon\\pycharmprojects\\dlam_sealedsurfaces\\.venv\\lib\\site-packages (from transformers->-r requirements.txt (line 5)) (0.6.2)\n",
      "Requirement already satisfied: contourpy>=1.0.1 in c:\\users\\leon\\pycharmprojects\\dlam_sealedsurfaces\\.venv\\lib\\site-packages (from matplotlib->-r requirements.txt (line 6)) (1.3.3)\n",
      "Requirement already satisfied: cycler>=0.10 in c:\\users\\leon\\pycharmprojects\\dlam_sealedsurfaces\\.venv\\lib\\site-packages (from matplotlib->-r requirements.txt (line 6)) (0.12.1)\n",
      "Requirement already satisfied: fonttools>=4.22.0 in c:\\users\\leon\\pycharmprojects\\dlam_sealedsurfaces\\.venv\\lib\\site-packages (from matplotlib->-r requirements.txt (line 6)) (4.59.1)\n",
      "Requirement already satisfied: kiwisolver>=1.3.1 in c:\\users\\leon\\pycharmprojects\\dlam_sealedsurfaces\\.venv\\lib\\site-packages (from matplotlib->-r requirements.txt (line 6)) (1.4.9)\n",
      "Requirement already satisfied: python-dateutil>=2.7 in c:\\users\\leon\\pycharmprojects\\dlam_sealedsurfaces\\.venv\\lib\\site-packages (from matplotlib->-r requirements.txt (line 6)) (2.9.0.post0)\n",
      "Collecting scipy>=1.10.0 (from albumentations->-r requirements.txt (line 7))\n",
      "  Downloading scipy-1.16.2-cp312-cp312-win_amd64.whl.metadata (60 kB)\n",
      "Collecting pydantic>=2.9.2 (from albumentations->-r requirements.txt (line 7))\n",
      "  Downloading pydantic-2.11.9-py3-none-any.whl.metadata (68 kB)\n",
      "Collecting albucore==0.0.24 (from albumentations->-r requirements.txt (line 7))\n",
      "  Downloading albucore-0.0.24-py3-none-any.whl.metadata (5.3 kB)\n",
      "Collecting opencv-python-headless>=4.9.0.80 (from albumentations->-r requirements.txt (line 7))\n",
      "  Downloading opencv_python_headless-4.12.0.88-cp37-abi3-win_amd64.whl.metadata (20 kB)\n",
      "Collecting stringzilla>=3.10.4 (from albucore==0.0.24->albumentations->-r requirements.txt (line 7))\n",
      "  Downloading stringzilla-4.0.10.tar.gz (463 kB)\n",
      "  Installing build dependencies: started\n",
      "  Installing build dependencies: finished with status 'done'\n",
      "  Getting requirements to build wheel: started\n",
      "  Getting requirements to build wheel: finished with status 'done'\n",
      "  Preparing metadata (pyproject.toml): started\n",
      "  Preparing metadata (pyproject.toml): finished with status 'done'\n",
      "Collecting simsimd>=5.9.2 (from albucore==0.0.24->albumentations->-r requirements.txt (line 7))\n",
      "  Downloading simsimd-6.5.3-cp312-cp312-win_amd64.whl.metadata (71 kB)\n",
      "Collecting numpy>=1.24 (from rasterio->-r requirements.txt (line 1))\n",
      "  Downloading numpy-2.2.6-cp312-cp312-win_amd64.whl.metadata (60 kB)\n",
      "Collecting annotated-types>=0.6.0 (from pydantic>=2.9.2->albumentations->-r requirements.txt (line 7))\n",
      "  Downloading annotated_types-0.7.0-py3-none-any.whl.metadata (15 kB)\n",
      "Collecting pydantic-core==2.33.2 (from pydantic>=2.9.2->albumentations->-r requirements.txt (line 7))\n",
      "  Downloading pydantic_core-2.33.2-cp312-cp312-win_amd64.whl.metadata (6.9 kB)\n",
      "Collecting typing-inspection>=0.4.0 (from pydantic>=2.9.2->albumentations->-r requirements.txt (line 7))\n",
      "  Downloading typing_inspection-0.4.1-py3-none-any.whl.metadata (2.6 kB)\n",
      "Requirement already satisfied: six>=1.5 in c:\\users\\leon\\pycharmprojects\\dlam_sealedsurfaces\\.venv\\lib\\site-packages (from python-dateutil>=2.7->matplotlib->-r requirements.txt (line 6)) (1.17.0)\n",
      "Requirement already satisfied: mpmath<1.4,>=1.1.0 in c:\\users\\leon\\pycharmprojects\\dlam_sealedsurfaces\\.venv\\lib\\site-packages (from sympy>=1.13.3->torch->-r requirements.txt (line 2)) (1.3.0)\n",
      "Requirement already satisfied: MarkupSafe>=2.0 in c:\\users\\leon\\pycharmprojects\\dlam_sealedsurfaces\\.venv\\lib\\site-packages (from jinja2->torch->-r requirements.txt (line 2)) (3.0.2)\n",
      "Requirement already satisfied: charset_normalizer<4,>=2 in c:\\users\\leon\\pycharmprojects\\dlam_sealedsurfaces\\.venv\\lib\\site-packages (from requests->transformers->-r requirements.txt (line 5)) (3.4.3)\n",
      "Requirement already satisfied: idna<4,>=2.5 in c:\\users\\leon\\pycharmprojects\\dlam_sealedsurfaces\\.venv\\lib\\site-packages (from requests->transformers->-r requirements.txt (line 5)) (3.10)\n",
      "Requirement already satisfied: urllib3<3,>=1.21.1 in c:\\users\\leon\\pycharmprojects\\dlam_sealedsurfaces\\.venv\\lib\\site-packages (from requests->transformers->-r requirements.txt (line 5)) (2.5.0)\n",
      "Downloading albumentations-2.0.8-py3-none-any.whl (369 kB)\n",
      "Downloading albucore-0.0.24-py3-none-any.whl (15 kB)\n",
      "Downloading opencv_python_headless-4.12.0.88-cp37-abi3-win_amd64.whl (38.9 MB)\n",
      "   ---------------------------------------- 0.0/38.9 MB ? eta -:--:--\n",
      "    --------------------------------------- 0.5/38.9 MB 4.2 MB/s eta 0:00:10\n",
      "   - -------------------------------------- 1.3/38.9 MB 3.7 MB/s eta 0:00:11\n",
      "   -- ------------------------------------- 2.1/38.9 MB 3.4 MB/s eta 0:00:11\n",
      "   -- ------------------------------------- 2.6/38.9 MB 3.4 MB/s eta 0:00:11\n",
      "   --- ------------------------------------ 3.4/38.9 MB 3.4 MB/s eta 0:00:11\n",
      "   ---- ----------------------------------- 4.2/38.9 MB 3.4 MB/s eta 0:00:11\n",
      "   ---- ----------------------------------- 4.7/38.9 MB 3.4 MB/s eta 0:00:11\n",
      "   ----- ---------------------------------- 5.5/38.9 MB 3.4 MB/s eta 0:00:10\n",
      "   ------ --------------------------------- 6.3/38.9 MB 3.4 MB/s eta 0:00:10\n",
      "   ------- -------------------------------- 7.1/38.9 MB 3.4 MB/s eta 0:00:10\n",
      "   -------- ------------------------------- 7.9/38.9 MB 3.4 MB/s eta 0:00:10\n",
      "   -------- ------------------------------- 8.7/38.9 MB 3.4 MB/s eta 0:00:09\n",
      "   --------- ------------------------------ 9.2/38.9 MB 3.4 MB/s eta 0:00:09\n",
      "   ---------- ----------------------------- 10.0/38.9 MB 3.4 MB/s eta 0:00:09\n",
      "   ----------- ---------------------------- 10.7/38.9 MB 3.4 MB/s eta 0:00:09\n",
      "   ----------- ---------------------------- 11.3/38.9 MB 3.4 MB/s eta 0:00:09\n",
      "   ------------ --------------------------- 12.1/38.9 MB 3.4 MB/s eta 0:00:08\n",
      "   ------------- -------------------------- 12.8/38.9 MB 3.4 MB/s eta 0:00:08\n",
      "   ------------- -------------------------- 13.4/38.9 MB 3.4 MB/s eta 0:00:08\n",
      "   -------------- ------------------------- 14.2/38.9 MB 3.4 MB/s eta 0:00:08\n",
      "   --------------- ------------------------ 14.9/38.9 MB 3.4 MB/s eta 0:00:07\n",
      "   ---------------- ----------------------- 15.7/38.9 MB 3.4 MB/s eta 0:00:07\n",
      "   ---------------- ----------------------- 16.3/38.9 MB 3.4 MB/s eta 0:00:07\n",
      "   ----------------- ---------------------- 16.8/38.9 MB 3.4 MB/s eta 0:00:07\n",
      "   ------------------ --------------------- 17.6/38.9 MB 3.4 MB/s eta 0:00:07\n",
      "   ------------------ --------------------- 18.4/38.9 MB 3.4 MB/s eta 0:00:07\n",
      "   ------------------- -------------------- 19.1/38.9 MB 3.4 MB/s eta 0:00:06\n",
      "   -------------------- ------------------- 19.7/38.9 MB 3.4 MB/s eta 0:00:06\n",
      "   --------------------- ------------------ 20.4/38.9 MB 3.4 MB/s eta 0:00:06\n",
      "   --------------------- ------------------ 21.2/38.9 MB 3.4 MB/s eta 0:00:06\n",
      "   ---------------------- ----------------- 22.0/38.9 MB 3.4 MB/s eta 0:00:05\n",
      "   ----------------------- ---------------- 22.8/38.9 MB 3.4 MB/s eta 0:00:05\n",
      "   ----------------------- ---------------- 23.3/38.9 MB 3.4 MB/s eta 0:00:05\n",
      "   ------------------------ --------------- 24.1/38.9 MB 3.4 MB/s eta 0:00:05\n",
      "   ------------------------- -------------- 24.9/38.9 MB 3.4 MB/s eta 0:00:05\n",
      "   -------------------------- ------------- 25.7/38.9 MB 3.4 MB/s eta 0:00:04\n",
      "   --------------------------- ------------ 26.5/38.9 MB 3.4 MB/s eta 0:00:04\n",
      "   ---------------------------- ----------- 27.3/38.9 MB 3.4 MB/s eta 0:00:04\n",
      "   ---------------------------- ----------- 28.0/38.9 MB 3.4 MB/s eta 0:00:04\n",
      "   ----------------------------- ---------- 28.8/38.9 MB 3.4 MB/s eta 0:00:03\n",
      "   ------------------------------ --------- 29.4/38.9 MB 3.4 MB/s eta 0:00:03\n",
      "   ------------------------------ --------- 30.1/38.9 MB 3.4 MB/s eta 0:00:03\n",
      "   ------------------------------- -------- 30.9/38.9 MB 3.4 MB/s eta 0:00:03\n",
      "   -------------------------------- ------- 31.7/38.9 MB 3.4 MB/s eta 0:00:03\n",
      "   --------------------------------- ------ 32.5/38.9 MB 3.5 MB/s eta 0:00:02\n",
      "   ---------------------------------- ----- 33.3/38.9 MB 3.5 MB/s eta 0:00:02\n",
      "   ----------------------------------- ---- 34.1/38.9 MB 3.5 MB/s eta 0:00:02\n",
      "   ----------------------------------- ---- 34.9/38.9 MB 3.5 MB/s eta 0:00:02\n",
      "   ------------------------------------ --- 35.7/38.9 MB 3.5 MB/s eta 0:00:01\n",
      "   ------------------------------------- -- 36.4/38.9 MB 3.5 MB/s eta 0:00:01\n",
      "   ------------------------------------- -- 37.0/38.9 MB 3.5 MB/s eta 0:00:01\n",
      "   -------------------------------------- - 37.7/38.9 MB 3.5 MB/s eta 0:00:01\n",
      "   ---------------------------------------  38.5/38.9 MB 3.5 MB/s eta 0:00:01\n",
      "   ---------------------------------------- 38.9/38.9 MB 3.5 MB/s eta 0:00:00\n",
      "Downloading numpy-2.2.6-cp312-cp312-win_amd64.whl (12.6 MB)\n",
      "   ---------------------------------------- 0.0/12.6 MB ? eta -:--:--\n",
      "   - -------------------------------------- 0.5/12.6 MB 3.4 MB/s eta 0:00:04\n",
      "   ---- ----------------------------------- 1.3/12.6 MB 3.5 MB/s eta 0:00:04\n",
      "   ----- ---------------------------------- 1.8/12.6 MB 3.5 MB/s eta 0:00:04\n",
      "   -------- ------------------------------- 2.6/12.6 MB 3.1 MB/s eta 0:00:04\n",
      "   ---------- ----------------------------- 3.4/12.6 MB 3.2 MB/s eta 0:00:03\n",
      "   ------------ --------------------------- 3.9/12.6 MB 3.3 MB/s eta 0:00:03\n",
      "   -------------- ------------------------- 4.7/12.6 MB 3.4 MB/s eta 0:00:03\n",
      "   ----------------- ---------------------- 5.5/12.6 MB 3.4 MB/s eta 0:00:03\n",
      "   ------------------- -------------------- 6.3/12.6 MB 3.4 MB/s eta 0:00:02\n",
      "   ---------------------- ----------------- 7.1/12.6 MB 3.4 MB/s eta 0:00:02\n",
      "   ------------------------ --------------- 7.6/12.6 MB 3.4 MB/s eta 0:00:02\n",
      "   -------------------------- ------------- 8.4/12.6 MB 3.4 MB/s eta 0:00:02\n",
      "   ----------------------------- ---------- 9.2/12.6 MB 3.4 MB/s eta 0:00:02\n",
      "   ------------------------------- -------- 10.0/12.6 MB 3.5 MB/s eta 0:00:01\n",
      "   ---------------------------------- ----- 10.7/12.6 MB 3.5 MB/s eta 0:00:01\n",
      "   ------------------------------------ --- 11.5/12.6 MB 3.5 MB/s eta 0:00:01\n",
      "   ---------------------------------------  12.3/12.6 MB 3.5 MB/s eta 0:00:01\n",
      "   ---------------------------------------- 12.6/12.6 MB 3.5 MB/s eta 0:00:00\n",
      "Downloading pydantic-2.11.9-py3-none-any.whl (444 kB)\n",
      "Downloading pydantic_core-2.33.2-cp312-cp312-win_amd64.whl (2.0 MB)\n",
      "   ---------------------------------------- 0.0/2.0 MB ? eta -:--:--\n",
      "   ---------- ----------------------------- 0.5/2.0 MB 4.2 MB/s eta 0:00:01\n",
      "   -------------------------- ------------- 1.3/2.0 MB 3.7 MB/s eta 0:00:01\n",
      "   ---------------------------------------- 2.0/2.0 MB 3.6 MB/s eta 0:00:00\n",
      "Downloading scipy-1.16.2-cp312-cp312-win_amd64.whl (38.6 MB)\n",
      "   ---------------------------------------- 0.0/38.6 MB ? eta -:--:--\n",
      "    --------------------------------------- 0.5/38.6 MB 4.2 MB/s eta 0:00:09\n",
      "   - -------------------------------------- 1.3/38.6 MB 3.4 MB/s eta 0:00:12\n",
      "   -- ------------------------------------- 2.1/38.6 MB 3.5 MB/s eta 0:00:11\n",
      "   -- ------------------------------------- 2.9/38.6 MB 3.5 MB/s eta 0:00:11\n",
      "   --- ------------------------------------ 3.7/38.6 MB 3.5 MB/s eta 0:00:11\n",
      "   ---- ----------------------------------- 4.2/38.6 MB 3.4 MB/s eta 0:00:10\n",
      "   ----- ---------------------------------- 5.0/38.6 MB 3.4 MB/s eta 0:00:10\n",
      "   ----- ---------------------------------- 5.8/38.6 MB 3.4 MB/s eta 0:00:10\n",
      "   ------ --------------------------------- 6.0/38.6 MB 3.4 MB/s eta 0:00:10\n",
      "   ------- -------------------------------- 6.8/38.6 MB 3.3 MB/s eta 0:00:10\n",
      "   ------- -------------------------------- 7.6/38.6 MB 3.3 MB/s eta 0:00:10\n",
      "   -------- ------------------------------- 8.4/38.6 MB 3.3 MB/s eta 0:00:10\n",
      "   --------- ------------------------------ 9.2/38.6 MB 3.3 MB/s eta 0:00:09\n",
      "   ---------- ----------------------------- 10.0/38.6 MB 3.4 MB/s eta 0:00:09\n",
      "   ---------- ----------------------------- 10.5/38.6 MB 3.4 MB/s eta 0:00:09\n",
      "   ----------- ---------------------------- 11.3/38.6 MB 3.4 MB/s eta 0:00:09\n",
      "   ------------ --------------------------- 11.8/38.6 MB 3.4 MB/s eta 0:00:08\n",
      "   ------------- -------------------------- 12.6/38.6 MB 3.4 MB/s eta 0:00:08\n",
      "   ------------- -------------------------- 13.4/38.6 MB 3.4 MB/s eta 0:00:08\n",
      "   -------------- ------------------------- 14.2/38.6 MB 3.4 MB/s eta 0:00:08\n",
      "   --------------- ------------------------ 14.9/38.6 MB 3.4 MB/s eta 0:00:07\n",
      "   ---------------- ----------------------- 15.7/38.6 MB 3.4 MB/s eta 0:00:07\n",
      "   ---------------- ----------------------- 16.3/38.6 MB 3.4 MB/s eta 0:00:07\n",
      "   ----------------- ---------------------- 17.0/38.6 MB 3.4 MB/s eta 0:00:07\n",
      "   ------------------ --------------------- 17.8/38.6 MB 3.4 MB/s eta 0:00:07\n",
      "   ------------------- -------------------- 18.6/38.6 MB 3.4 MB/s eta 0:00:06\n",
      "   -------------------- ------------------- 19.4/38.6 MB 3.4 MB/s eta 0:00:06\n",
      "   -------------------- ------------------- 20.2/38.6 MB 3.4 MB/s eta 0:00:06\n",
      "   --------------------- ------------------ 20.7/38.6 MB 3.4 MB/s eta 0:00:06\n",
      "   ---------------------- ----------------- 21.5/38.6 MB 3.4 MB/s eta 0:00:05\n",
      "   ----------------------- ---------------- 22.3/38.6 MB 3.4 MB/s eta 0:00:05\n",
      "   ----------------------- ---------------- 23.1/38.6 MB 3.4 MB/s eta 0:00:05\n",
      "   ------------------------ --------------- 23.9/38.6 MB 3.4 MB/s eta 0:00:05\n",
      "   ------------------------- -------------- 24.4/38.6 MB 3.4 MB/s eta 0:00:05\n",
      "   -------------------------- ------------- 25.2/38.6 MB 3.4 MB/s eta 0:00:04\n",
      "   -------------------------- ------------- 25.7/38.6 MB 3.4 MB/s eta 0:00:04\n",
      "   --------------------------- ------------ 26.5/38.6 MB 3.4 MB/s eta 0:00:04\n",
      "   ---------------------------- ----------- 27.3/38.6 MB 3.4 MB/s eta 0:00:04\n",
      "   ---------------------------- ----------- 27.8/38.6 MB 3.4 MB/s eta 0:00:04\n",
      "   ----------------------------- ---------- 28.6/38.6 MB 3.4 MB/s eta 0:00:03\n",
      "   ------------------------------ --------- 29.4/38.6 MB 3.4 MB/s eta 0:00:03\n",
      "   ------------------------------- -------- 30.1/38.6 MB 3.4 MB/s eta 0:00:03\n",
      "   ------------------------------- -------- 30.7/38.6 MB 3.4 MB/s eta 0:00:03\n",
      "   -------------------------------- ------- 31.5/38.6 MB 3.4 MB/s eta 0:00:03\n",
      "   --------------------------------- ------ 32.2/38.6 MB 3.4 MB/s eta 0:00:02\n",
      "   ---------------------------------- ----- 33.0/38.6 MB 3.4 MB/s eta 0:00:02\n",
      "   ----------------------------------- ---- 33.8/38.6 MB 3.4 MB/s eta 0:00:02\n",
      "   ----------------------------------- ---- 34.6/38.6 MB 3.4 MB/s eta 0:00:02\n",
      "   ------------------------------------ --- 35.1/38.6 MB 3.4 MB/s eta 0:00:02\n",
      "   ------------------------------------- -- 35.9/38.6 MB 3.4 MB/s eta 0:00:01\n",
      "   -------------------------------------- - 36.7/38.6 MB 3.4 MB/s eta 0:00:01\n",
      "   -------------------------------------- - 37.2/38.6 MB 3.4 MB/s eta 0:00:01\n",
      "   ---------------------------------------  38.0/38.6 MB 3.4 MB/s eta 0:00:01\n",
      "   ---------------------------------------- 38.6/38.6 MB 3.4 MB/s eta 0:00:00\n",
      "Downloading annotated_types-0.7.0-py3-none-any.whl (13 kB)\n",
      "Downloading simsimd-6.5.3-cp312-cp312-win_amd64.whl (94 kB)\n",
      "Downloading typing_inspection-0.4.1-py3-none-any.whl (14 kB)\n",
      "Building wheels for collected packages: stringzilla\n",
      "  Building wheel for stringzilla (pyproject.toml): started\n",
      "  Building wheel for stringzilla (pyproject.toml): finished with status 'error'\n",
      "Failed to build stringzilla\n",
      "C:\\Users\\Leon\\PycharmProjects\\DLAM_SealedSurfaces\\src\n"
     ]
    },
    {
     "name": "stderr",
     "output_type": "stream",
     "text": [
      "  error: subprocess-exited-with-error\n",
      "  \n",
      "  × Building wheel for stringzilla (pyproject.toml) did not run successfully.\n",
      "  │ exit code: 1\n",
      "  ╰─> [10 lines of output]\n",
      "      running bdist_wheel\n",
      "      running build\n",
      "      running build_py\n",
      "      creating build\\lib.win-amd64-cpython-312\\cli\n",
      "      copying cli\\split.py -> build\\lib.win-amd64-cpython-312\\cli\n",
      "      copying cli\\wc.py -> build\\lib.win-amd64-cpython-312\\cli\n",
      "      copying cli\\__init__.py -> build\\lib.win-amd64-cpython-312\\cli\n",
      "      running build_ext\n",
      "      building 'stringzilla' extension\n",
      "      error: Microsoft Visual C++ 14.0 or greater is required. Get it with \"Microsoft C++ Build Tools\": https://visualstudio.microsoft.com/visual-cpp-build-tools/\n",
      "      [end of output]\n",
      "  \n",
      "  note: This error originates from a subprocess, and is likely not a problem with pip.\n",
      "  ERROR: Failed building wheel for stringzilla\n",
      "\n",
      "[notice] A new release of pip is available: 25.0.1 -> 25.2\n",
      "[notice] To update, run: python.exe -m pip install --upgrade pip\n",
      "ERROR: Failed to build installable wheels for some pyproject.toml based projects (stringzilla)\n"
     ]
    }
   ],
   "execution_count": 5
  },
  {
   "cell_type": "code",
   "source": [
    "from settings import *\n",
    "from dataset import PotsdamDataset, get_data_loaders\n",
    "from models import get_trained_custom_resnet18, get_trained_deeplabv3_resnet101, get_trained_segformer_model\n",
    "from evaluate import evaluate_segmentation"
   ],
   "metadata": {
    "collapsed": false,
    "ExecuteTime": {
     "end_time": "2025-09-15T19:45:11.050611Z",
     "start_time": "2025-09-15T19:45:10.985114Z"
    }
   },
   "id": "initial_id",
   "outputs": [
    {
     "ename": "ModuleNotFoundError",
     "evalue": "No module named 'albumentations'",
     "output_type": "error",
     "traceback": [
      "\u001B[31m---------------------------------------------------------------------------\u001B[39m",
      "\u001B[31mModuleNotFoundError\u001B[39m                       Traceback (most recent call last)",
      "\u001B[36mCell\u001B[39m\u001B[36m \u001B[39m\u001B[32mIn[8]\u001B[39m\u001B[32m, line 2\u001B[39m\n\u001B[32m      1\u001B[39m \u001B[38;5;28;01mfrom\u001B[39;00m\u001B[38;5;250m \u001B[39m\u001B[34;01msrc\u001B[39;00m\u001B[34;01m.\u001B[39;00m\u001B[34;01msettings\u001B[39;00m\u001B[38;5;250m \u001B[39m\u001B[38;5;28;01mimport\u001B[39;00m *\n\u001B[32m----> \u001B[39m\u001B[32m2\u001B[39m \u001B[38;5;28;01mfrom\u001B[39;00m\u001B[38;5;250m \u001B[39m\u001B[34;01msrc\u001B[39;00m\u001B[34;01m.\u001B[39;00m\u001B[34;01mdataset\u001B[39;00m\u001B[38;5;250m \u001B[39m\u001B[38;5;28;01mimport\u001B[39;00m PotsdamDataset, get_data_loaders\n\u001B[32m      3\u001B[39m \u001B[38;5;28;01mfrom\u001B[39;00m\u001B[38;5;250m \u001B[39m\u001B[34;01msrc\u001B[39;00m\u001B[34;01m.\u001B[39;00m\u001B[34;01mmodels\u001B[39;00m\u001B[38;5;250m \u001B[39m\u001B[38;5;28;01mimport\u001B[39;00m get_trained_custom_resnet18, get_trained_deeplabv3_resnet101, get_trained_segformer_model\n\u001B[32m      4\u001B[39m \u001B[38;5;28;01mfrom\u001B[39;00m\u001B[38;5;250m \u001B[39m\u001B[34;01msrc\u001B[39;00m\u001B[34;01m.\u001B[39;00m\u001B[34;01mevaluate\u001B[39;00m\u001B[38;5;250m \u001B[39m\u001B[38;5;28;01mimport\u001B[39;00m evaluate_segmentation\n",
      "\u001B[36mFile \u001B[39m\u001B[32m~\\PycharmProjects\\DLAM_SealedSurfaces\\src\\dataset.py:14\u001B[39m\n\u001B[32m     11\u001B[39m \u001B[38;5;28;01mfrom\u001B[39;00m\u001B[38;5;250m \u001B[39m\u001B[34;01mtqdm\u001B[39;00m\u001B[38;5;250m \u001B[39m\u001B[38;5;28;01mimport\u001B[39;00m tqdm\n\u001B[32m     12\u001B[39m \u001B[38;5;28;01mfrom\u001B[39;00m\u001B[38;5;250m \u001B[39m\u001B[34;01mtyping\u001B[39;00m\u001B[38;5;250m \u001B[39m\u001B[38;5;28;01mimport\u001B[39;00m List, Tuple\n\u001B[32m---> \u001B[39m\u001B[32m14\u001B[39m \u001B[38;5;28;01mimport\u001B[39;00m\u001B[38;5;250m \u001B[39m\u001B[34;01malbumentations\u001B[39;00m\u001B[38;5;250m \u001B[39m\u001B[38;5;28;01mas\u001B[39;00m\u001B[38;5;250m \u001B[39m\u001B[34;01mA\u001B[39;00m\n\u001B[32m     15\u001B[39m \u001B[38;5;28;01mfrom\u001B[39;00m\u001B[38;5;250m \u001B[39m\u001B[34;01malbumentations\u001B[39;00m\u001B[34;01m.\u001B[39;00m\u001B[34;01mpytorch\u001B[39;00m\u001B[38;5;250m \u001B[39m\u001B[38;5;28;01mimport\u001B[39;00m ToTensorV2\n\u001B[32m     18\u001B[39m \u001B[38;5;28;01mdef\u001B[39;00m\u001B[38;5;250m \u001B[39m\u001B[34mget_train_transform\u001B[39m(patch_size: \u001B[38;5;28mint\u001B[39m):\n",
      "\u001B[31mModuleNotFoundError\u001B[39m: No module named 'albumentations'"
     ]
    }
   ],
   "execution_count": 8
  },
  {
   "cell_type": "code",
   "execution_count": 4,
   "outputs": [],
   "source": [
    "try:\n",
    "    import os\n",
    "    import shutil\n",
    "    from google.colab import drive\n",
    "    MOUNTPOINT = '/content/drive/'\n",
    "    drive.mount(MOUNTPOINT)\n",
    "\n",
    "    IMAGE_PATH = os.path.join(MOUNTPOINT, 'MyDrive', 'DLAM', '2_Ortho_RGB') # TODO adjust to your path\n",
    "    LABEL_PATH = os.path.join(MOUNTPOINT, 'MyDrive', 'DLAM', '5_Labels_all') # TODO adjust to your path\n",
    "\n",
    "    EVAL_PATH = MOUNTPOINT + 'MyDrive/DLAM/eval/'\n",
    "except:\n",
    "    IMAGE_PATH = '../data/2_Ortho_RGB' # TODO adjust to your path\n",
    "    LABEL_PATH = '../data/5_Labels_all' # TODO adjust to your path\n",
    "    EVAL_PATH = '../eval/'\n",
    "os.makedirs(EVAL_PATH, exist_ok=True)"
   ],
   "metadata": {
    "collapsed": false,
    "ExecuteTime": {
     "end_time": "2025-08-13T22:58:44.663292680Z",
     "start_time": "2025-08-13T22:58:44.659566729Z"
    }
   },
   "id": "de7835d6a5e58021"
  },
  {
   "cell_type": "code",
   "execution_count": 5,
   "outputs": [],
   "source": [
    "# Hyperparameters\n",
    "patch_size = 250\n",
    "stride = 250\n",
    "batch_size = 8\n",
    "classification_mode = \"single\" # or \"combined\"\n",
    "num_classes = PotsdamDataset.get_num_classes(classification_mode)\n",
    "class_names = PotsdamDataset.CLASS_NAMES_SINGLE if classification_mode == \"single\" else PotsdamDataset.CLASS_NAMES_COMBINED"
   ],
   "metadata": {
    "collapsed": false,
    "ExecuteTime": {
     "end_time": "2025-08-13T22:58:44.672922068Z",
     "start_time": "2025-08-13T22:58:44.661608879Z"
    }
   },
   "id": "407e56ab6bb98f35"
  },
  {
   "cell_type": "markdown",
   "source": [
    "# Train resnet18"
   ],
   "metadata": {
    "collapsed": false
   },
   "id": "e577378afa3c0290"
  },
  {
   "metadata": {
    "id": "4d749718eca0e3bc",
    "ExecuteTime": {
     "end_time": "2025-08-13T22:35:06.485245490Z",
     "start_time": "2025-08-13T22:33:33.433587329Z"
    }
   },
   "cell_type": "code",
   "outputs": [
    {
     "name": "stderr",
     "output_type": "stream",
     "text": [
      "Building index: 100%|██████████| 24/24 [00:00<00:00, 260785.74it/s]\n",
      "Evaluating: 100%|██████████| 274/274 [01:25<00:00,  3.20it/s]\n",
      "/home/janina/PycharmProjects/DLAM_SealedSurfaces/src/evaluate.py:83: RuntimeWarning: invalid value encountered in divide\n",
      "  per_class_iou = np.where(union > 0, intersection / union, 0.0)\n"
     ]
    },
    {
     "name": "stdout",
     "output_type": "stream",
     "text": [
      "Evaluation completed.\n",
      "Pixel Accuracy: 0.6414\n",
      "Mean IoU: 0.3597\n",
      "Per-class IoU:\n",
      "  Class 0: 0.5105\n",
      "  Class 1: 0.5755\n",
      "  Class 2: 0.4061\n",
      "  Class 3: 0.3663\n",
      "  Class 4: 0.2998\n",
      "  Class 5: 0.0000\n"
     ]
    }
   ],
   "execution_count": 5,
   "source": [
    "dataset = PotsdamDataset(IMAGE_PATH, LABEL_PATH, patch_size=patch_size, stride=stride, device=DEVICE)\n",
    "train_loader, val_loader, test_loader = get_data_loaders(IMAGE_PATH, LABEL_PATH,patch_size,\n",
    "                     stride,\n",
    "                     dist=[0.8, 0.1, 0.1],\n",
    "                     batch_size=batch_size,\n",
    "                     device=DEVICE,\n",
    "                     mode=classification_mode,\n",
    "                     pin_memory=True,\n",
    "                     num_workers=2,\n",
    "                     seed=42)\n",
    "\n",
    "model = get_trained_custom_resnet18(model_path='../models/resnet18.pth', patch_size=patch_size, num_classes=num_classes, device=DEVICE)\n",
    "evaluate_segmentation(model=model, data_loader=test_loader, device=DEVICE, model_type='ResNet18', class_names=class_names, patch_size=patch_size, eval_path=EVAL_PATH + 'resnet18.svg')"
   ],
   "id": "4d749718eca0e3bc"
  },
  {
   "cell_type": "markdown",
   "source": [
    "# Train DeepLabV3 resnet101 baseline"
   ],
   "metadata": {
    "collapsed": false
   },
   "id": "1feb801cdbb86dba"
  },
  {
   "cell_type": "code",
   "execution_count": 5,
   "outputs": [
    {
     "name": "stderr",
     "output_type": "stream",
     "text": [
      "Building index: 100%|██████████| 24/24 [00:00<00:00, 304118.72it/s]\n",
      "Evaluating:   0%|          | 1/274 [00:02<10:08,  2.23s/it]"
     ]
    },
    {
     "name": "stdout",
     "output_type": "stream",
     "text": [
      "Logits shape: torch.Size([8, 6, 250, 250]), Labels shape: torch.Size([8, 250, 250])\n",
      "Predictions shape: torch.Size([8, 250, 250])\n"
     ]
    },
    {
     "name": "stderr",
     "output_type": "stream",
     "text": [
      "Evaluating:   1%|          | 2/274 [00:04<10:09,  2.24s/it]"
     ]
    },
    {
     "name": "stdout",
     "output_type": "stream",
     "text": [
      "Logits shape: torch.Size([8, 6, 250, 250]), Labels shape: torch.Size([8, 250, 250])\n",
      "Predictions shape: torch.Size([8, 250, 250])\n"
     ]
    },
    {
     "name": "stderr",
     "output_type": "stream",
     "text": [
      "Evaluating:   1%|          | 2/274 [00:05<13:08,  2.90s/it]\n"
     ]
    },
    {
     "ename": "KeyboardInterrupt",
     "evalue": "",
     "output_type": "error",
     "traceback": [
      "\u001B[31m---------------------------------------------------------------------------\u001B[39m",
      "\u001B[31mKeyboardInterrupt\u001B[39m                         Traceback (most recent call last)",
      "\u001B[36mCell\u001B[39m\u001B[36m \u001B[39m\u001B[32mIn[5]\u001B[39m\u001B[32m, line 6\u001B[39m\n\u001B[32m      2\u001B[39m train_loader, val_loader, test_loader = get_data_loaders(dataset, [\u001B[32m0.8\u001B[39m, \u001B[32m0.1\u001B[39m, \u001B[32m0.1\u001B[39m] ,batch_size)\n\u001B[32m      4\u001B[39m model = get_trained_deeplabv3_resnet101(model_path=\u001B[33m'\u001B[39m\u001B[33m../models/deeplabv3_resnet101.pth\u001B[39m\u001B[33m'\u001B[39m, num_classes=\u001B[32m6\u001B[39m, device=DEVICE)\n\u001B[32m----> \u001B[39m\u001B[32m6\u001B[39m \u001B[43mevaluate_segmentation\u001B[49m\u001B[43m(\u001B[49m\u001B[43mmodel\u001B[49m\u001B[43m=\u001B[49m\u001B[43mmodel\u001B[49m\u001B[43m,\u001B[49m\u001B[43m \u001B[49m\u001B[43mdata_loader\u001B[49m\u001B[43m=\u001B[49m\u001B[43mtest_loader\u001B[49m\u001B[43m,\u001B[49m\u001B[43m \u001B[49m\u001B[43mdevice\u001B[49m\u001B[43m=\u001B[49m\u001B[43mDEVICE\u001B[49m\u001B[43m,\u001B[49m\u001B[43m \u001B[49m\u001B[43mmodel_type\u001B[49m\u001B[43m=\u001B[49m\u001B[33;43m'\u001B[39;49m\u001B[33;43mDeepLabV3\u001B[39;49m\u001B[33;43m'\u001B[39;49m\u001B[43m,\u001B[49m\u001B[43m \u001B[49m\u001B[43mnum_classes\u001B[49m\u001B[43m=\u001B[49m\u001B[43mnum_classes\u001B[49m\u001B[43m,\u001B[49m\u001B[43m \u001B[49m\u001B[43mpatch_size\u001B[49m\u001B[43m=\u001B[49m\u001B[43mpatch_size\u001B[49m\u001B[43m,\u001B[49m\u001B[43m \u001B[49m\u001B[43meval_path\u001B[49m\u001B[43m=\u001B[49m\u001B[43mEVAL_PATH\u001B[49m\u001B[43m \u001B[49m\u001B[43m+\u001B[49m\u001B[43m \u001B[49m\u001B[33;43m'\u001B[39;49m\u001B[33;43mdeeplabv3_resnet101.png\u001B[39;49m\u001B[33;43m'\u001B[39;49m\u001B[43m)\u001B[49m\n",
      "\u001B[36mFile \u001B[39m\u001B[32m~/PycharmProjects/DLAM_SealedSurfaces/src/evaluate.py:55\u001B[39m, in \u001B[36mevaluate_segmentation\u001B[39m\u001B[34m(model, data_loader, device, model_type, num_classes, patch_size, eval_path)\u001B[39m\n\u001B[32m     53\u001B[39m     logits = F.interpolate(logits, size=(y.shape[\u001B[32m1\u001B[39m], y.shape[\u001B[32m2\u001B[39m]), mode=\u001B[33m'\u001B[39m\u001B[33mbilinear\u001B[39m\u001B[33m'\u001B[39m, align_corners=\u001B[38;5;28;01mFalse\u001B[39;00m)\n\u001B[32m     54\u001B[39m \u001B[38;5;28;01melse\u001B[39;00m:\n\u001B[32m---> \u001B[39m\u001B[32m55\u001B[39m     logits = \u001B[43mmodel\u001B[49m\u001B[43m(\u001B[49m\u001B[43mX\u001B[49m\u001B[43m)\u001B[49m\n\u001B[32m     56\u001B[39m     \u001B[38;5;28;01mif\u001B[39;00m model_type == \u001B[33m'\u001B[39m\u001B[33mDeepLabV3\u001B[39m\u001B[33m'\u001B[39m:\n\u001B[32m     57\u001B[39m         logits = logits[\u001B[33m'\u001B[39m\u001B[33mout\u001B[39m\u001B[33m'\u001B[39m]\n",
      "\u001B[36mFile \u001B[39m\u001B[32m~/PycharmProjects/DLAM_SealedSurfaces/venv/lib/python3.12/site-packages/torch/nn/modules/module.py:1773\u001B[39m, in \u001B[36mModule._wrapped_call_impl\u001B[39m\u001B[34m(self, *args, **kwargs)\u001B[39m\n\u001B[32m   1771\u001B[39m     \u001B[38;5;28;01mreturn\u001B[39;00m \u001B[38;5;28mself\u001B[39m._compiled_call_impl(*args, **kwargs)  \u001B[38;5;66;03m# type: ignore[misc]\u001B[39;00m\n\u001B[32m   1772\u001B[39m \u001B[38;5;28;01melse\u001B[39;00m:\n\u001B[32m-> \u001B[39m\u001B[32m1773\u001B[39m     \u001B[38;5;28;01mreturn\u001B[39;00m \u001B[38;5;28;43mself\u001B[39;49m\u001B[43m.\u001B[49m\u001B[43m_call_impl\u001B[49m\u001B[43m(\u001B[49m\u001B[43m*\u001B[49m\u001B[43margs\u001B[49m\u001B[43m,\u001B[49m\u001B[43m \u001B[49m\u001B[43m*\u001B[49m\u001B[43m*\u001B[49m\u001B[43mkwargs\u001B[49m\u001B[43m)\u001B[49m\n",
      "\u001B[36mFile \u001B[39m\u001B[32m~/PycharmProjects/DLAM_SealedSurfaces/venv/lib/python3.12/site-packages/torch/nn/modules/module.py:1784\u001B[39m, in \u001B[36mModule._call_impl\u001B[39m\u001B[34m(self, *args, **kwargs)\u001B[39m\n\u001B[32m   1779\u001B[39m \u001B[38;5;66;03m# If we don't have any hooks, we want to skip the rest of the logic in\u001B[39;00m\n\u001B[32m   1780\u001B[39m \u001B[38;5;66;03m# this function, and just call forward.\u001B[39;00m\n\u001B[32m   1781\u001B[39m \u001B[38;5;28;01mif\u001B[39;00m \u001B[38;5;129;01mnot\u001B[39;00m (\u001B[38;5;28mself\u001B[39m._backward_hooks \u001B[38;5;129;01mor\u001B[39;00m \u001B[38;5;28mself\u001B[39m._backward_pre_hooks \u001B[38;5;129;01mor\u001B[39;00m \u001B[38;5;28mself\u001B[39m._forward_hooks \u001B[38;5;129;01mor\u001B[39;00m \u001B[38;5;28mself\u001B[39m._forward_pre_hooks\n\u001B[32m   1782\u001B[39m         \u001B[38;5;129;01mor\u001B[39;00m _global_backward_pre_hooks \u001B[38;5;129;01mor\u001B[39;00m _global_backward_hooks\n\u001B[32m   1783\u001B[39m         \u001B[38;5;129;01mor\u001B[39;00m _global_forward_hooks \u001B[38;5;129;01mor\u001B[39;00m _global_forward_pre_hooks):\n\u001B[32m-> \u001B[39m\u001B[32m1784\u001B[39m     \u001B[38;5;28;01mreturn\u001B[39;00m \u001B[43mforward_call\u001B[49m\u001B[43m(\u001B[49m\u001B[43m*\u001B[49m\u001B[43margs\u001B[49m\u001B[43m,\u001B[49m\u001B[43m \u001B[49m\u001B[43m*\u001B[49m\u001B[43m*\u001B[49m\u001B[43mkwargs\u001B[49m\u001B[43m)\u001B[49m\n\u001B[32m   1786\u001B[39m result = \u001B[38;5;28;01mNone\u001B[39;00m\n\u001B[32m   1787\u001B[39m called_always_called_hooks = \u001B[38;5;28mset\u001B[39m()\n",
      "\u001B[36mFile \u001B[39m\u001B[32m~/PycharmProjects/DLAM_SealedSurfaces/venv/lib/python3.12/site-packages/torchvision/models/segmentation/_utils.py:23\u001B[39m, in \u001B[36m_SimpleSegmentationModel.forward\u001B[39m\u001B[34m(self, x)\u001B[39m\n\u001B[32m     21\u001B[39m input_shape = x.shape[-\u001B[32m2\u001B[39m:]\n\u001B[32m     22\u001B[39m \u001B[38;5;66;03m# contract: features is a dict of tensors\u001B[39;00m\n\u001B[32m---> \u001B[39m\u001B[32m23\u001B[39m features = \u001B[38;5;28;43mself\u001B[39;49m\u001B[43m.\u001B[49m\u001B[43mbackbone\u001B[49m\u001B[43m(\u001B[49m\u001B[43mx\u001B[49m\u001B[43m)\u001B[49m\n\u001B[32m     25\u001B[39m result = OrderedDict()\n\u001B[32m     26\u001B[39m x = features[\u001B[33m\"\u001B[39m\u001B[33mout\u001B[39m\u001B[33m\"\u001B[39m]\n",
      "\u001B[36mFile \u001B[39m\u001B[32m~/PycharmProjects/DLAM_SealedSurfaces/venv/lib/python3.12/site-packages/torch/nn/modules/module.py:1773\u001B[39m, in \u001B[36mModule._wrapped_call_impl\u001B[39m\u001B[34m(self, *args, **kwargs)\u001B[39m\n\u001B[32m   1771\u001B[39m     \u001B[38;5;28;01mreturn\u001B[39;00m \u001B[38;5;28mself\u001B[39m._compiled_call_impl(*args, **kwargs)  \u001B[38;5;66;03m# type: ignore[misc]\u001B[39;00m\n\u001B[32m   1772\u001B[39m \u001B[38;5;28;01melse\u001B[39;00m:\n\u001B[32m-> \u001B[39m\u001B[32m1773\u001B[39m     \u001B[38;5;28;01mreturn\u001B[39;00m \u001B[38;5;28;43mself\u001B[39;49m\u001B[43m.\u001B[49m\u001B[43m_call_impl\u001B[49m\u001B[43m(\u001B[49m\u001B[43m*\u001B[49m\u001B[43margs\u001B[49m\u001B[43m,\u001B[49m\u001B[43m \u001B[49m\u001B[43m*\u001B[49m\u001B[43m*\u001B[49m\u001B[43mkwargs\u001B[49m\u001B[43m)\u001B[49m\n",
      "\u001B[36mFile \u001B[39m\u001B[32m~/PycharmProjects/DLAM_SealedSurfaces/venv/lib/python3.12/site-packages/torch/nn/modules/module.py:1784\u001B[39m, in \u001B[36mModule._call_impl\u001B[39m\u001B[34m(self, *args, **kwargs)\u001B[39m\n\u001B[32m   1779\u001B[39m \u001B[38;5;66;03m# If we don't have any hooks, we want to skip the rest of the logic in\u001B[39;00m\n\u001B[32m   1780\u001B[39m \u001B[38;5;66;03m# this function, and just call forward.\u001B[39;00m\n\u001B[32m   1781\u001B[39m \u001B[38;5;28;01mif\u001B[39;00m \u001B[38;5;129;01mnot\u001B[39;00m (\u001B[38;5;28mself\u001B[39m._backward_hooks \u001B[38;5;129;01mor\u001B[39;00m \u001B[38;5;28mself\u001B[39m._backward_pre_hooks \u001B[38;5;129;01mor\u001B[39;00m \u001B[38;5;28mself\u001B[39m._forward_hooks \u001B[38;5;129;01mor\u001B[39;00m \u001B[38;5;28mself\u001B[39m._forward_pre_hooks\n\u001B[32m   1782\u001B[39m         \u001B[38;5;129;01mor\u001B[39;00m _global_backward_pre_hooks \u001B[38;5;129;01mor\u001B[39;00m _global_backward_hooks\n\u001B[32m   1783\u001B[39m         \u001B[38;5;129;01mor\u001B[39;00m _global_forward_hooks \u001B[38;5;129;01mor\u001B[39;00m _global_forward_pre_hooks):\n\u001B[32m-> \u001B[39m\u001B[32m1784\u001B[39m     \u001B[38;5;28;01mreturn\u001B[39;00m \u001B[43mforward_call\u001B[49m\u001B[43m(\u001B[49m\u001B[43m*\u001B[49m\u001B[43margs\u001B[49m\u001B[43m,\u001B[49m\u001B[43m \u001B[49m\u001B[43m*\u001B[49m\u001B[43m*\u001B[49m\u001B[43mkwargs\u001B[49m\u001B[43m)\u001B[49m\n\u001B[32m   1786\u001B[39m result = \u001B[38;5;28;01mNone\u001B[39;00m\n\u001B[32m   1787\u001B[39m called_always_called_hooks = \u001B[38;5;28mset\u001B[39m()\n",
      "\u001B[36mFile \u001B[39m\u001B[32m~/PycharmProjects/DLAM_SealedSurfaces/venv/lib/python3.12/site-packages/torchvision/models/_utils.py:69\u001B[39m, in \u001B[36mIntermediateLayerGetter.forward\u001B[39m\u001B[34m(self, x)\u001B[39m\n\u001B[32m     67\u001B[39m out = OrderedDict()\n\u001B[32m     68\u001B[39m \u001B[38;5;28;01mfor\u001B[39;00m name, module \u001B[38;5;129;01min\u001B[39;00m \u001B[38;5;28mself\u001B[39m.items():\n\u001B[32m---> \u001B[39m\u001B[32m69\u001B[39m     x = \u001B[43mmodule\u001B[49m\u001B[43m(\u001B[49m\u001B[43mx\u001B[49m\u001B[43m)\u001B[49m\n\u001B[32m     70\u001B[39m     \u001B[38;5;28;01mif\u001B[39;00m name \u001B[38;5;129;01min\u001B[39;00m \u001B[38;5;28mself\u001B[39m.return_layers:\n\u001B[32m     71\u001B[39m         out_name = \u001B[38;5;28mself\u001B[39m.return_layers[name]\n",
      "\u001B[36mFile \u001B[39m\u001B[32m~/PycharmProjects/DLAM_SealedSurfaces/venv/lib/python3.12/site-packages/torch/nn/modules/module.py:1773\u001B[39m, in \u001B[36mModule._wrapped_call_impl\u001B[39m\u001B[34m(self, *args, **kwargs)\u001B[39m\n\u001B[32m   1771\u001B[39m     \u001B[38;5;28;01mreturn\u001B[39;00m \u001B[38;5;28mself\u001B[39m._compiled_call_impl(*args, **kwargs)  \u001B[38;5;66;03m# type: ignore[misc]\u001B[39;00m\n\u001B[32m   1772\u001B[39m \u001B[38;5;28;01melse\u001B[39;00m:\n\u001B[32m-> \u001B[39m\u001B[32m1773\u001B[39m     \u001B[38;5;28;01mreturn\u001B[39;00m \u001B[38;5;28;43mself\u001B[39;49m\u001B[43m.\u001B[49m\u001B[43m_call_impl\u001B[49m\u001B[43m(\u001B[49m\u001B[43m*\u001B[49m\u001B[43margs\u001B[49m\u001B[43m,\u001B[49m\u001B[43m \u001B[49m\u001B[43m*\u001B[49m\u001B[43m*\u001B[49m\u001B[43mkwargs\u001B[49m\u001B[43m)\u001B[49m\n",
      "\u001B[36mFile \u001B[39m\u001B[32m~/PycharmProjects/DLAM_SealedSurfaces/venv/lib/python3.12/site-packages/torch/nn/modules/module.py:1784\u001B[39m, in \u001B[36mModule._call_impl\u001B[39m\u001B[34m(self, *args, **kwargs)\u001B[39m\n\u001B[32m   1779\u001B[39m \u001B[38;5;66;03m# If we don't have any hooks, we want to skip the rest of the logic in\u001B[39;00m\n\u001B[32m   1780\u001B[39m \u001B[38;5;66;03m# this function, and just call forward.\u001B[39;00m\n\u001B[32m   1781\u001B[39m \u001B[38;5;28;01mif\u001B[39;00m \u001B[38;5;129;01mnot\u001B[39;00m (\u001B[38;5;28mself\u001B[39m._backward_hooks \u001B[38;5;129;01mor\u001B[39;00m \u001B[38;5;28mself\u001B[39m._backward_pre_hooks \u001B[38;5;129;01mor\u001B[39;00m \u001B[38;5;28mself\u001B[39m._forward_hooks \u001B[38;5;129;01mor\u001B[39;00m \u001B[38;5;28mself\u001B[39m._forward_pre_hooks\n\u001B[32m   1782\u001B[39m         \u001B[38;5;129;01mor\u001B[39;00m _global_backward_pre_hooks \u001B[38;5;129;01mor\u001B[39;00m _global_backward_hooks\n\u001B[32m   1783\u001B[39m         \u001B[38;5;129;01mor\u001B[39;00m _global_forward_hooks \u001B[38;5;129;01mor\u001B[39;00m _global_forward_pre_hooks):\n\u001B[32m-> \u001B[39m\u001B[32m1784\u001B[39m     \u001B[38;5;28;01mreturn\u001B[39;00m \u001B[43mforward_call\u001B[49m\u001B[43m(\u001B[49m\u001B[43m*\u001B[49m\u001B[43margs\u001B[49m\u001B[43m,\u001B[49m\u001B[43m \u001B[49m\u001B[43m*\u001B[49m\u001B[43m*\u001B[49m\u001B[43mkwargs\u001B[49m\u001B[43m)\u001B[49m\n\u001B[32m   1786\u001B[39m result = \u001B[38;5;28;01mNone\u001B[39;00m\n\u001B[32m   1787\u001B[39m called_always_called_hooks = \u001B[38;5;28mset\u001B[39m()\n",
      "\u001B[36mFile \u001B[39m\u001B[32m~/PycharmProjects/DLAM_SealedSurfaces/venv/lib/python3.12/site-packages/torch/nn/modules/container.py:244\u001B[39m, in \u001B[36mSequential.forward\u001B[39m\u001B[34m(self, input)\u001B[39m\n\u001B[32m    242\u001B[39m \u001B[38;5;28;01mdef\u001B[39;00m\u001B[38;5;250m \u001B[39m\u001B[34mforward\u001B[39m(\u001B[38;5;28mself\u001B[39m, \u001B[38;5;28minput\u001B[39m):\n\u001B[32m    243\u001B[39m     \u001B[38;5;28;01mfor\u001B[39;00m module \u001B[38;5;129;01min\u001B[39;00m \u001B[38;5;28mself\u001B[39m:\n\u001B[32m--> \u001B[39m\u001B[32m244\u001B[39m         \u001B[38;5;28minput\u001B[39m = \u001B[43mmodule\u001B[49m\u001B[43m(\u001B[49m\u001B[38;5;28;43minput\u001B[39;49m\u001B[43m)\u001B[49m\n\u001B[32m    245\u001B[39m     \u001B[38;5;28;01mreturn\u001B[39;00m \u001B[38;5;28minput\u001B[39m\n",
      "\u001B[36mFile \u001B[39m\u001B[32m~/PycharmProjects/DLAM_SealedSurfaces/venv/lib/python3.12/site-packages/torch/nn/modules/module.py:1773\u001B[39m, in \u001B[36mModule._wrapped_call_impl\u001B[39m\u001B[34m(self, *args, **kwargs)\u001B[39m\n\u001B[32m   1771\u001B[39m     \u001B[38;5;28;01mreturn\u001B[39;00m \u001B[38;5;28mself\u001B[39m._compiled_call_impl(*args, **kwargs)  \u001B[38;5;66;03m# type: ignore[misc]\u001B[39;00m\n\u001B[32m   1772\u001B[39m \u001B[38;5;28;01melse\u001B[39;00m:\n\u001B[32m-> \u001B[39m\u001B[32m1773\u001B[39m     \u001B[38;5;28;01mreturn\u001B[39;00m \u001B[38;5;28;43mself\u001B[39;49m\u001B[43m.\u001B[49m\u001B[43m_call_impl\u001B[49m\u001B[43m(\u001B[49m\u001B[43m*\u001B[49m\u001B[43margs\u001B[49m\u001B[43m,\u001B[49m\u001B[43m \u001B[49m\u001B[43m*\u001B[49m\u001B[43m*\u001B[49m\u001B[43mkwargs\u001B[49m\u001B[43m)\u001B[49m\n",
      "\u001B[36mFile \u001B[39m\u001B[32m~/PycharmProjects/DLAM_SealedSurfaces/venv/lib/python3.12/site-packages/torch/nn/modules/module.py:1784\u001B[39m, in \u001B[36mModule._call_impl\u001B[39m\u001B[34m(self, *args, **kwargs)\u001B[39m\n\u001B[32m   1779\u001B[39m \u001B[38;5;66;03m# If we don't have any hooks, we want to skip the rest of the logic in\u001B[39;00m\n\u001B[32m   1780\u001B[39m \u001B[38;5;66;03m# this function, and just call forward.\u001B[39;00m\n\u001B[32m   1781\u001B[39m \u001B[38;5;28;01mif\u001B[39;00m \u001B[38;5;129;01mnot\u001B[39;00m (\u001B[38;5;28mself\u001B[39m._backward_hooks \u001B[38;5;129;01mor\u001B[39;00m \u001B[38;5;28mself\u001B[39m._backward_pre_hooks \u001B[38;5;129;01mor\u001B[39;00m \u001B[38;5;28mself\u001B[39m._forward_hooks \u001B[38;5;129;01mor\u001B[39;00m \u001B[38;5;28mself\u001B[39m._forward_pre_hooks\n\u001B[32m   1782\u001B[39m         \u001B[38;5;129;01mor\u001B[39;00m _global_backward_pre_hooks \u001B[38;5;129;01mor\u001B[39;00m _global_backward_hooks\n\u001B[32m   1783\u001B[39m         \u001B[38;5;129;01mor\u001B[39;00m _global_forward_hooks \u001B[38;5;129;01mor\u001B[39;00m _global_forward_pre_hooks):\n\u001B[32m-> \u001B[39m\u001B[32m1784\u001B[39m     \u001B[38;5;28;01mreturn\u001B[39;00m \u001B[43mforward_call\u001B[49m\u001B[43m(\u001B[49m\u001B[43m*\u001B[49m\u001B[43margs\u001B[49m\u001B[43m,\u001B[49m\u001B[43m \u001B[49m\u001B[43m*\u001B[49m\u001B[43m*\u001B[49m\u001B[43mkwargs\u001B[49m\u001B[43m)\u001B[49m\n\u001B[32m   1786\u001B[39m result = \u001B[38;5;28;01mNone\u001B[39;00m\n\u001B[32m   1787\u001B[39m called_always_called_hooks = \u001B[38;5;28mset\u001B[39m()\n",
      "\u001B[36mFile \u001B[39m\u001B[32m~/PycharmProjects/DLAM_SealedSurfaces/venv/lib/python3.12/site-packages/torchvision/models/resnet.py:150\u001B[39m, in \u001B[36mBottleneck.forward\u001B[39m\u001B[34m(self, x)\u001B[39m\n\u001B[32m    147\u001B[39m out = \u001B[38;5;28mself\u001B[39m.bn1(out)\n\u001B[32m    148\u001B[39m out = \u001B[38;5;28mself\u001B[39m.relu(out)\n\u001B[32m--> \u001B[39m\u001B[32m150\u001B[39m out = \u001B[38;5;28;43mself\u001B[39;49m\u001B[43m.\u001B[49m\u001B[43mconv2\u001B[49m\u001B[43m(\u001B[49m\u001B[43mout\u001B[49m\u001B[43m)\u001B[49m\n\u001B[32m    151\u001B[39m out = \u001B[38;5;28mself\u001B[39m.bn2(out)\n\u001B[32m    152\u001B[39m out = \u001B[38;5;28mself\u001B[39m.relu(out)\n",
      "\u001B[36mFile \u001B[39m\u001B[32m~/PycharmProjects/DLAM_SealedSurfaces/venv/lib/python3.12/site-packages/torch/nn/modules/module.py:1773\u001B[39m, in \u001B[36mModule._wrapped_call_impl\u001B[39m\u001B[34m(self, *args, **kwargs)\u001B[39m\n\u001B[32m   1771\u001B[39m     \u001B[38;5;28;01mreturn\u001B[39;00m \u001B[38;5;28mself\u001B[39m._compiled_call_impl(*args, **kwargs)  \u001B[38;5;66;03m# type: ignore[misc]\u001B[39;00m\n\u001B[32m   1772\u001B[39m \u001B[38;5;28;01melse\u001B[39;00m:\n\u001B[32m-> \u001B[39m\u001B[32m1773\u001B[39m     \u001B[38;5;28;01mreturn\u001B[39;00m \u001B[38;5;28;43mself\u001B[39;49m\u001B[43m.\u001B[49m\u001B[43m_call_impl\u001B[49m\u001B[43m(\u001B[49m\u001B[43m*\u001B[49m\u001B[43margs\u001B[49m\u001B[43m,\u001B[49m\u001B[43m \u001B[49m\u001B[43m*\u001B[49m\u001B[43m*\u001B[49m\u001B[43mkwargs\u001B[49m\u001B[43m)\u001B[49m\n",
      "\u001B[36mFile \u001B[39m\u001B[32m~/PycharmProjects/DLAM_SealedSurfaces/venv/lib/python3.12/site-packages/torch/nn/modules/module.py:1784\u001B[39m, in \u001B[36mModule._call_impl\u001B[39m\u001B[34m(self, *args, **kwargs)\u001B[39m\n\u001B[32m   1779\u001B[39m \u001B[38;5;66;03m# If we don't have any hooks, we want to skip the rest of the logic in\u001B[39;00m\n\u001B[32m   1780\u001B[39m \u001B[38;5;66;03m# this function, and just call forward.\u001B[39;00m\n\u001B[32m   1781\u001B[39m \u001B[38;5;28;01mif\u001B[39;00m \u001B[38;5;129;01mnot\u001B[39;00m (\u001B[38;5;28mself\u001B[39m._backward_hooks \u001B[38;5;129;01mor\u001B[39;00m \u001B[38;5;28mself\u001B[39m._backward_pre_hooks \u001B[38;5;129;01mor\u001B[39;00m \u001B[38;5;28mself\u001B[39m._forward_hooks \u001B[38;5;129;01mor\u001B[39;00m \u001B[38;5;28mself\u001B[39m._forward_pre_hooks\n\u001B[32m   1782\u001B[39m         \u001B[38;5;129;01mor\u001B[39;00m _global_backward_pre_hooks \u001B[38;5;129;01mor\u001B[39;00m _global_backward_hooks\n\u001B[32m   1783\u001B[39m         \u001B[38;5;129;01mor\u001B[39;00m _global_forward_hooks \u001B[38;5;129;01mor\u001B[39;00m _global_forward_pre_hooks):\n\u001B[32m-> \u001B[39m\u001B[32m1784\u001B[39m     \u001B[38;5;28;01mreturn\u001B[39;00m \u001B[43mforward_call\u001B[49m\u001B[43m(\u001B[49m\u001B[43m*\u001B[49m\u001B[43margs\u001B[49m\u001B[43m,\u001B[49m\u001B[43m \u001B[49m\u001B[43m*\u001B[49m\u001B[43m*\u001B[49m\u001B[43mkwargs\u001B[49m\u001B[43m)\u001B[49m\n\u001B[32m   1786\u001B[39m result = \u001B[38;5;28;01mNone\u001B[39;00m\n\u001B[32m   1787\u001B[39m called_always_called_hooks = \u001B[38;5;28mset\u001B[39m()\n",
      "\u001B[36mFile \u001B[39m\u001B[32m~/PycharmProjects/DLAM_SealedSurfaces/venv/lib/python3.12/site-packages/torch/nn/modules/conv.py:548\u001B[39m, in \u001B[36mConv2d.forward\u001B[39m\u001B[34m(self, input)\u001B[39m\n\u001B[32m    547\u001B[39m \u001B[38;5;28;01mdef\u001B[39;00m\u001B[38;5;250m \u001B[39m\u001B[34mforward\u001B[39m(\u001B[38;5;28mself\u001B[39m, \u001B[38;5;28minput\u001B[39m: Tensor) -> Tensor:\n\u001B[32m--> \u001B[39m\u001B[32m548\u001B[39m     \u001B[38;5;28;01mreturn\u001B[39;00m \u001B[38;5;28;43mself\u001B[39;49m\u001B[43m.\u001B[49m\u001B[43m_conv_forward\u001B[49m\u001B[43m(\u001B[49m\u001B[38;5;28;43minput\u001B[39;49m\u001B[43m,\u001B[49m\u001B[43m \u001B[49m\u001B[38;5;28;43mself\u001B[39;49m\u001B[43m.\u001B[49m\u001B[43mweight\u001B[49m\u001B[43m,\u001B[49m\u001B[43m \u001B[49m\u001B[38;5;28;43mself\u001B[39;49m\u001B[43m.\u001B[49m\u001B[43mbias\u001B[49m\u001B[43m)\u001B[49m\n",
      "\u001B[36mFile \u001B[39m\u001B[32m~/PycharmProjects/DLAM_SealedSurfaces/venv/lib/python3.12/site-packages/torch/nn/modules/conv.py:543\u001B[39m, in \u001B[36mConv2d._conv_forward\u001B[39m\u001B[34m(self, input, weight, bias)\u001B[39m\n\u001B[32m    531\u001B[39m \u001B[38;5;28;01mif\u001B[39;00m \u001B[38;5;28mself\u001B[39m.padding_mode != \u001B[33m\"\u001B[39m\u001B[33mzeros\u001B[39m\u001B[33m\"\u001B[39m:\n\u001B[32m    532\u001B[39m     \u001B[38;5;28;01mreturn\u001B[39;00m F.conv2d(\n\u001B[32m    533\u001B[39m         F.pad(\n\u001B[32m    534\u001B[39m             \u001B[38;5;28minput\u001B[39m, \u001B[38;5;28mself\u001B[39m._reversed_padding_repeated_twice, mode=\u001B[38;5;28mself\u001B[39m.padding_mode\n\u001B[32m   (...)\u001B[39m\u001B[32m    541\u001B[39m         \u001B[38;5;28mself\u001B[39m.groups,\n\u001B[32m    542\u001B[39m     )\n\u001B[32m--> \u001B[39m\u001B[32m543\u001B[39m \u001B[38;5;28;01mreturn\u001B[39;00m \u001B[43mF\u001B[49m\u001B[43m.\u001B[49m\u001B[43mconv2d\u001B[49m\u001B[43m(\u001B[49m\n\u001B[32m    544\u001B[39m \u001B[43m    \u001B[49m\u001B[38;5;28;43minput\u001B[39;49m\u001B[43m,\u001B[49m\u001B[43m \u001B[49m\u001B[43mweight\u001B[49m\u001B[43m,\u001B[49m\u001B[43m \u001B[49m\u001B[43mbias\u001B[49m\u001B[43m,\u001B[49m\u001B[43m \u001B[49m\u001B[38;5;28;43mself\u001B[39;49m\u001B[43m.\u001B[49m\u001B[43mstride\u001B[49m\u001B[43m,\u001B[49m\u001B[43m \u001B[49m\u001B[38;5;28;43mself\u001B[39;49m\u001B[43m.\u001B[49m\u001B[43mpadding\u001B[49m\u001B[43m,\u001B[49m\u001B[43m \u001B[49m\u001B[38;5;28;43mself\u001B[39;49m\u001B[43m.\u001B[49m\u001B[43mdilation\u001B[49m\u001B[43m,\u001B[49m\u001B[43m \u001B[49m\u001B[38;5;28;43mself\u001B[39;49m\u001B[43m.\u001B[49m\u001B[43mgroups\u001B[49m\n\u001B[32m    545\u001B[39m \u001B[43m\u001B[49m\u001B[43m)\u001B[49m\n",
      "\u001B[31mKeyboardInterrupt\u001B[39m: "
     ]
    }
   ],
   "source": [
    "dataset = PotsdamDataset(IMAGE_PATH, LABEL_PATH, patch_size=patch_size, stride=stride, device=DEVICE)\n",
    "train_loader, val_loader, test_loader = get_data_loaders(IMAGE_PATH, LABEL_PATH,patch_size,\n",
    "                     stride,\n",
    "                     dist=[0.8, 0.1, 0.1],\n",
    "                     batch_size=batch_size,\n",
    "                     device=DEVICE,\n",
    "                     mode=classification_mode,\n",
    "                     pin_memory=True,\n",
    "                     num_workers=2,\n",
    "                     seed=42)\n",
    "\n",
    "model = get_trained_deeplabv3_resnet101(model_path='../models/deeplabv3_resnet101.pth', num_classes=num_classes, device=DEVICE)\n",
    "\n",
    "evaluate_segmentation(model=model, data_loader=test_loader, device=DEVICE, model_type='DeepLabV3', class_names=class_names, patch_size=patch_size, eval_path=EVAL_PATH + 'deeplabv3_resnet101.svg')"
   ],
   "metadata": {
    "collapsed": false,
    "ExecuteTime": {
     "end_time": "2025-08-13T22:58:01.900459727Z",
     "start_time": "2025-08-13T22:57:54.719184979Z"
    }
   },
   "id": "4f218a2788635ab"
  },
  {
   "cell_type": "markdown",
   "source": [
    "# Train SegFormer"
   ],
   "metadata": {
    "collapsed": false
   },
   "id": "b212da15242a4ac5"
  },
  {
   "cell_type": "code",
   "execution_count": 6,
   "outputs": [
    {
     "name": "stderr",
     "output_type": "stream",
     "text": [
      "Building index: 100%|██████████| 24/24 [00:00<00:00, 319566.02it/s]\n",
      "Some weights of SegformerForSemanticSegmentation were not initialized from the model checkpoint at nvidia/segformer-b0-finetuned-ade-512-512 and are newly initialized because the shapes did not match:\n",
      "- decode_head.classifier.bias: found shape torch.Size([150]) in the checkpoint and torch.Size([6]) in the model instantiated\n",
      "- decode_head.classifier.weight: found shape torch.Size([150, 256, 1, 1]) in the checkpoint and torch.Size([6, 256, 1, 1]) in the model instantiated\n",
      "You should probably TRAIN this model on a down-stream task to be able to use it for predictions and inference.\n",
      "Evaluating: 100%|██████████| 274/274 [00:47<00:00,  5.79it/s]\n",
      "/home/janina/PycharmProjects/DLAM_SealedSurfaces/src/evaluate.py:81: RuntimeWarning: invalid value encountered in divide\n",
      "  per_class_iou = np.where(union > 0, intersection / union, 0.0)\n"
     ]
    },
    {
     "name": "stdout",
     "output_type": "stream",
     "text": [
      "Evaluation completed.\n",
      "Pixel Accuracy: 0.8490\n",
      "Mean IoU: 0.5763\n",
      "Per-class IoU:\n",
      "  Class 0: 0.7717\n",
      "  Class 1: 0.8496\n",
      "  Class 2: 0.6736\n",
      "  Class 3: 0.6913\n",
      "  Class 4: 0.4715\n",
      "  Class 5: 0.0000\n"
     ]
    }
   ],
   "source": [
    "dataset = PotsdamDataset(IMAGE_PATH, LABEL_PATH, patch_size=patch_size, stride=stride, device=DEVICE)\n",
    "train_loader, val_loader, test_loader = get_data_loaders(IMAGE_PATH, LABEL_PATH,patch_size,\n",
    "                     stride,\n",
    "                     dist=[0.8, 0.1, 0.1],\n",
    "                     batch_size=batch_size,\n",
    "                     device=DEVICE,\n",
    "                     mode=classification_mode,\n",
    "                     pin_memory=True,\n",
    "                     num_workers=2,\n",
    "                     seed=42)\n",
    "\n",
    "model = get_trained_segformer_model('../models/segformer.pth', num_classes=num_classes, device=DEVICE)\n",
    "\n",
    "evaluate_segmentation(model=model, data_loader=test_loader, device=DEVICE, model_type='SegFormer', class_names=class_names, patch_size=patch_size, eval_path=EVAL_PATH + 'segformer.svg')"
   ],
   "metadata": {
    "collapsed": false,
    "ExecuteTime": {
     "end_time": "2025-08-13T22:59:41.775480114Z",
     "start_time": "2025-08-13T22:58:47.765132771Z"
    }
   },
   "id": "5ad10e6b9efe5090"
  },
  {
   "cell_type": "code",
   "execution_count": null,
   "outputs": [],
   "source": [],
   "metadata": {
    "collapsed": false,
    "ExecuteTime": {
     "start_time": "2025-08-13T22:43:58.526256441Z"
    }
   },
   "id": "c98e87d0bc192c47"
  }
 ],
 "metadata": {
  "kernelspec": {
   "display_name": "Python 3",
   "language": "python",
   "name": "python3"
  },
  "language_info": {
   "codemirror_mode": {
    "name": "ipython",
    "version": 2
   },
   "file_extension": ".py",
   "mimetype": "text/x-python",
   "name": "python",
   "nbconvert_exporter": "python",
   "pygments_lexer": "ipython2",
   "version": "2.7.6"
  },
  "colab": {
   "provenance": []
  }
 },
 "nbformat": 4,
 "nbformat_minor": 5
}
