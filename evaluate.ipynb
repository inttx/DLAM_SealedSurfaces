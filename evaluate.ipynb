{
 "cells": [
  {
   "cell_type": "code",
   "execution_count": 1,
   "outputs": [
    {
     "name": "stdout",
     "output_type": "stream",
     "text": [
      "Cloning into 'DLAM_SealedSurfaces'...\r\n",
      "remote: Enumerating objects: 124, done.\u001B[K\r\n",
      "remote: Counting objects: 100% (124/124), done.\u001B[K\r\n",
      "remote: Compressing objects: 100% (84/84), done.\u001B[K\r\n",
      "remote: Total 124 (delta 71), reused 77 (delta 35), pack-reused 0 (from 0)\u001B[K\r\n",
      "Receiving objects: 100% (124/124), 163.94 KiB | 6.83 MiB/s, done.\r\n",
      "Resolving deltas: 100% (71/71), done.\r\n",
      "/home/janina/PycharmProjects/DLAM_SealedSurfaces/DLAM_SealedSurfaces\n"
     ]
    }
   ],
   "source": [
    "!git clone https://github.com/inttx/DLAM_SealedSurfaces.git\n",
    "%cd DLAM_SealedSurfaces"
   ],
   "metadata": {
    "collapsed": false,
    "ExecuteTime": {
     "end_time": "2025-08-13T15:46:36.210993509Z",
     "start_time": "2025-08-13T15:46:35.547877389Z"
    }
   },
   "id": "78dde405835f5ea"
  },
  {
   "cell_type": "code",
   "execution_count": 1,
   "outputs": [
    {
     "name": "stdout",
     "output_type": "stream",
     "text": [
      "Requirement already satisfied: rasterio in ./venv/lib/python3.12/site-packages (from -r requirements.txt (line 1)) (1.4.3)\r\n",
      "Requirement already satisfied: torch in ./venv/lib/python3.12/site-packages (from -r requirements.txt (line 2)) (2.8.0)\r\n",
      "Requirement already satisfied: torchvision in ./venv/lib/python3.12/site-packages (from -r requirements.txt (line 3)) (0.23.0)\r\n",
      "Requirement already satisfied: tqdm in ./venv/lib/python3.12/site-packages (from -r requirements.txt (line 4)) (4.67.1)\r\n",
      "Requirement already satisfied: transformers in ./venv/lib/python3.12/site-packages (from -r requirements.txt (line 5)) (4.55.0)\r\n",
      "Requirement already satisfied: matplotlib in ./venv/lib/python3.12/site-packages (from -r requirements.txt (line 6)) (3.10.5)\r\n",
      "Requirement already satisfied: albumentations in ./venv/lib/python3.12/site-packages (from -r requirements.txt (line 7)) (2.0.8)\r\n",
      "Requirement already satisfied: affine in ./venv/lib/python3.12/site-packages (from rasterio->-r requirements.txt (line 1)) (2.4.0)\r\n",
      "Requirement already satisfied: attrs in ./venv/lib/python3.12/site-packages (from rasterio->-r requirements.txt (line 1)) (25.3.0)\r\n",
      "Requirement already satisfied: certifi in ./venv/lib/python3.12/site-packages (from rasterio->-r requirements.txt (line 1)) (2025.8.3)\r\n",
      "Requirement already satisfied: click>=4.0 in ./venv/lib/python3.12/site-packages (from rasterio->-r requirements.txt (line 1)) (8.2.1)\r\n",
      "Requirement already satisfied: cligj>=0.5 in ./venv/lib/python3.12/site-packages (from rasterio->-r requirements.txt (line 1)) (0.7.2)\r\n",
      "Requirement already satisfied: numpy>=1.24 in ./venv/lib/python3.12/site-packages (from rasterio->-r requirements.txt (line 1)) (2.2.6)\r\n",
      "Requirement already satisfied: click-plugins in ./venv/lib/python3.12/site-packages (from rasterio->-r requirements.txt (line 1)) (1.1.1.2)\r\n",
      "Requirement already satisfied: pyparsing in ./venv/lib/python3.12/site-packages (from rasterio->-r requirements.txt (line 1)) (3.2.3)\r\n",
      "Requirement already satisfied: filelock in ./venv/lib/python3.12/site-packages (from torch->-r requirements.txt (line 2)) (3.18.0)\r\n",
      "Requirement already satisfied: typing-extensions>=4.10.0 in ./venv/lib/python3.12/site-packages (from torch->-r requirements.txt (line 2)) (4.14.1)\r\n",
      "Requirement already satisfied: setuptools in ./venv/lib/python3.12/site-packages (from torch->-r requirements.txt (line 2)) (80.9.0)\r\n",
      "Requirement already satisfied: sympy>=1.13.3 in ./venv/lib/python3.12/site-packages (from torch->-r requirements.txt (line 2)) (1.14.0)\r\n",
      "Requirement already satisfied: networkx in ./venv/lib/python3.12/site-packages (from torch->-r requirements.txt (line 2)) (3.5)\r\n",
      "Requirement already satisfied: jinja2 in ./venv/lib/python3.12/site-packages (from torch->-r requirements.txt (line 2)) (3.1.6)\r\n",
      "Requirement already satisfied: fsspec in ./venv/lib/python3.12/site-packages (from torch->-r requirements.txt (line 2)) (2025.7.0)\r\n",
      "Requirement already satisfied: nvidia-cuda-nvrtc-cu12==12.8.93 in ./venv/lib/python3.12/site-packages (from torch->-r requirements.txt (line 2)) (12.8.93)\r\n",
      "Requirement already satisfied: nvidia-cuda-runtime-cu12==12.8.90 in ./venv/lib/python3.12/site-packages (from torch->-r requirements.txt (line 2)) (12.8.90)\r\n",
      "Requirement already satisfied: nvidia-cuda-cupti-cu12==12.8.90 in ./venv/lib/python3.12/site-packages (from torch->-r requirements.txt (line 2)) (12.8.90)\r\n",
      "Requirement already satisfied: nvidia-cudnn-cu12==9.10.2.21 in ./venv/lib/python3.12/site-packages (from torch->-r requirements.txt (line 2)) (9.10.2.21)\r\n",
      "Requirement already satisfied: nvidia-cublas-cu12==12.8.4.1 in ./venv/lib/python3.12/site-packages (from torch->-r requirements.txt (line 2)) (12.8.4.1)\r\n",
      "Requirement already satisfied: nvidia-cufft-cu12==11.3.3.83 in ./venv/lib/python3.12/site-packages (from torch->-r requirements.txt (line 2)) (11.3.3.83)\r\n",
      "Requirement already satisfied: nvidia-curand-cu12==10.3.9.90 in ./venv/lib/python3.12/site-packages (from torch->-r requirements.txt (line 2)) (10.3.9.90)\r\n",
      "Requirement already satisfied: nvidia-cusolver-cu12==11.7.3.90 in ./venv/lib/python3.12/site-packages (from torch->-r requirements.txt (line 2)) (11.7.3.90)\r\n",
      "Requirement already satisfied: nvidia-cusparse-cu12==12.5.8.93 in ./venv/lib/python3.12/site-packages (from torch->-r requirements.txt (line 2)) (12.5.8.93)\r\n",
      "Requirement already satisfied: nvidia-cusparselt-cu12==0.7.1 in ./venv/lib/python3.12/site-packages (from torch->-r requirements.txt (line 2)) (0.7.1)\r\n",
      "Requirement already satisfied: nvidia-nccl-cu12==2.27.3 in ./venv/lib/python3.12/site-packages (from torch->-r requirements.txt (line 2)) (2.27.3)\r\n",
      "Requirement already satisfied: nvidia-nvtx-cu12==12.8.90 in ./venv/lib/python3.12/site-packages (from torch->-r requirements.txt (line 2)) (12.8.90)\r\n",
      "Requirement already satisfied: nvidia-nvjitlink-cu12==12.8.93 in ./venv/lib/python3.12/site-packages (from torch->-r requirements.txt (line 2)) (12.8.93)\r\n",
      "Requirement already satisfied: nvidia-cufile-cu12==1.13.1.3 in ./venv/lib/python3.12/site-packages (from torch->-r requirements.txt (line 2)) (1.13.1.3)\r\n",
      "Requirement already satisfied: triton==3.4.0 in ./venv/lib/python3.12/site-packages (from torch->-r requirements.txt (line 2)) (3.4.0)\r\n",
      "Requirement already satisfied: pillow!=8.3.*,>=5.3.0 in ./venv/lib/python3.12/site-packages (from torchvision->-r requirements.txt (line 3)) (11.3.0)\r\n",
      "Requirement already satisfied: huggingface-hub<1.0,>=0.34.0 in ./venv/lib/python3.12/site-packages (from transformers->-r requirements.txt (line 5)) (0.34.4)\r\n",
      "Requirement already satisfied: packaging>=20.0 in ./venv/lib/python3.12/site-packages (from transformers->-r requirements.txt (line 5)) (25.0)\r\n",
      "Requirement already satisfied: pyyaml>=5.1 in ./venv/lib/python3.12/site-packages (from transformers->-r requirements.txt (line 5)) (6.0.2)\r\n",
      "Requirement already satisfied: regex!=2019.12.17 in ./venv/lib/python3.12/site-packages (from transformers->-r requirements.txt (line 5)) (2025.7.34)\r\n",
      "Requirement already satisfied: requests in ./venv/lib/python3.12/site-packages (from transformers->-r requirements.txt (line 5)) (2.32.4)\r\n",
      "Requirement already satisfied: tokenizers<0.22,>=0.21 in ./venv/lib/python3.12/site-packages (from transformers->-r requirements.txt (line 5)) (0.21.4)\r\n",
      "Requirement already satisfied: safetensors>=0.4.3 in ./venv/lib/python3.12/site-packages (from transformers->-r requirements.txt (line 5)) (0.6.2)\r\n",
      "Requirement already satisfied: contourpy>=1.0.1 in ./venv/lib/python3.12/site-packages (from matplotlib->-r requirements.txt (line 6)) (1.3.3)\r\n",
      "Requirement already satisfied: cycler>=0.10 in ./venv/lib/python3.12/site-packages (from matplotlib->-r requirements.txt (line 6)) (0.12.1)\r\n",
      "Requirement already satisfied: fonttools>=4.22.0 in ./venv/lib/python3.12/site-packages (from matplotlib->-r requirements.txt (line 6)) (4.59.0)\r\n",
      "Requirement already satisfied: kiwisolver>=1.3.1 in ./venv/lib/python3.12/site-packages (from matplotlib->-r requirements.txt (line 6)) (1.4.9)\r\n",
      "Requirement already satisfied: python-dateutil>=2.7 in ./venv/lib/python3.12/site-packages (from matplotlib->-r requirements.txt (line 6)) (2.9.0.post0)\r\n",
      "Requirement already satisfied: scipy>=1.10.0 in ./venv/lib/python3.12/site-packages (from albumentations->-r requirements.txt (line 7)) (1.16.1)\r\n",
      "Requirement already satisfied: pydantic>=2.9.2 in ./venv/lib/python3.12/site-packages (from albumentations->-r requirements.txt (line 7)) (2.11.9)\r\n",
      "Requirement already satisfied: albucore==0.0.24 in ./venv/lib/python3.12/site-packages (from albumentations->-r requirements.txt (line 7)) (0.0.24)\r\n",
      "Requirement already satisfied: opencv-python-headless>=4.9.0.80 in ./venv/lib/python3.12/site-packages (from albumentations->-r requirements.txt (line 7)) (4.12.0.88)\r\n",
      "Requirement already satisfied: stringzilla>=3.10.4 in ./venv/lib/python3.12/site-packages (from albucore==0.0.24->albumentations->-r requirements.txt (line 7)) (4.0.7)\r\n",
      "Requirement already satisfied: simsimd>=5.9.2 in ./venv/lib/python3.12/site-packages (from albucore==0.0.24->albumentations->-r requirements.txt (line 7)) (6.5.3)\r\n",
      "Requirement already satisfied: hf-xet<2.0.0,>=1.1.3 in ./venv/lib/python3.12/site-packages (from huggingface-hub<1.0,>=0.34.0->transformers->-r requirements.txt (line 5)) (1.1.7)\r\n",
      "Requirement already satisfied: annotated-types>=0.6.0 in ./venv/lib/python3.12/site-packages (from pydantic>=2.9.2->albumentations->-r requirements.txt (line 7)) (0.7.0)\r\n",
      "Requirement already satisfied: pydantic-core==2.33.2 in ./venv/lib/python3.12/site-packages (from pydantic>=2.9.2->albumentations->-r requirements.txt (line 7)) (2.33.2)\r\n",
      "Requirement already satisfied: typing-inspection>=0.4.0 in ./venv/lib/python3.12/site-packages (from pydantic>=2.9.2->albumentations->-r requirements.txt (line 7)) (0.4.1)\r\n",
      "Requirement already satisfied: six>=1.5 in ./venv/lib/python3.12/site-packages (from python-dateutil>=2.7->matplotlib->-r requirements.txt (line 6)) (1.17.0)\r\n",
      "Requirement already satisfied: mpmath<1.4,>=1.1.0 in ./venv/lib/python3.12/site-packages (from sympy>=1.13.3->torch->-r requirements.txt (line 2)) (1.3.0)\r\n",
      "Requirement already satisfied: MarkupSafe>=2.0 in ./venv/lib/python3.12/site-packages (from jinja2->torch->-r requirements.txt (line 2)) (3.0.2)\r\n",
      "Requirement already satisfied: charset_normalizer<4,>=2 in ./venv/lib/python3.12/site-packages (from requests->transformers->-r requirements.txt (line 5)) (3.4.3)\r\n",
      "Requirement already satisfied: idna<4,>=2.5 in ./venv/lib/python3.12/site-packages (from requests->transformers->-r requirements.txt (line 5)) (3.10)\r\n",
      "Requirement already satisfied: urllib3<3,>=1.21.1 in ./venv/lib/python3.12/site-packages (from requests->transformers->-r requirements.txt (line 5)) (2.5.0)\r\n",
      "\r\n",
      "\u001B[1m[\u001B[0m\u001B[34;49mnotice\u001B[0m\u001B[1;39;49m]\u001B[0m\u001B[39;49m A new release of pip is available: \u001B[0m\u001B[31;49m23.2.1\u001B[0m\u001B[39;49m -> \u001B[0m\u001B[32;49m25.2\u001B[0m\r\n",
      "\u001B[1m[\u001B[0m\u001B[34;49mnotice\u001B[0m\u001B[1;39;49m]\u001B[0m\u001B[39;49m To update, run: \u001B[0m\u001B[32;49mpip install --upgrade pip\u001B[0m\r\n",
      "/home/janina/PycharmProjects/DLAM_SealedSurfaces/src\n"
     ]
    }
   ],
   "source": [
    "!pip install -r requirements.txt\n",
    "%cd src"
   ],
   "metadata": {
    "collapsed": false,
    "ExecuteTime": {
     "end_time": "2025-09-15T18:48:00.703692037Z",
     "start_time": "2025-09-15T18:47:59.064137207Z"
    }
   },
   "id": "25f323fd92b4d052"
  },
  {
   "cell_type": "code",
   "execution_count": 2,
   "outputs": [],
   "source": [
    "from settings import *\n",
    "from dataset import PotsdamDataset, get_data_loaders\n",
    "from models import get_trained_custom_resnet18, get_trained_deeplabv3_resnet101, get_trained_segformer_model\n",
    "from evaluate import evaluate_segmentation"
   ],
   "metadata": {
    "collapsed": false,
    "ExecuteTime": {
     "end_time": "2025-09-15T18:48:06.578032041Z",
     "start_time": "2025-09-15T18:48:02.433177375Z"
    }
   },
   "id": "initial_id"
  },
  {
   "cell_type": "code",
   "execution_count": 3,
   "outputs": [],
   "source": [
    "try:\n",
    "    import os\n",
    "    import shutil\n",
    "    from google.colab import drive\n",
    "    MOUNTPOINT = '/content/drive/'\n",
    "    drive.mount(MOUNTPOINT)\n",
    "\n",
    "    IMAGE_PATH = os.path.join(MOUNTPOINT, 'MyDrive', 'DLAM', '2_Ortho_RGB') # TODO adjust to your path\n",
    "    LABEL_PATH = os.path.join(MOUNTPOINT, 'MyDrive', 'DLAM', '5_Labels_all') # TODO adjust to your path\n",
    "\n",
    "    EVAL_PATH = MOUNTPOINT + 'MyDrive/DLAM/eval/'\n",
    "except:\n",
    "    IMAGE_PATH = '../data/2_Ortho_RGB' # TODO adjust to your path\n",
    "    LABEL_PATH = '../data/5_Labels_all' # TODO adjust to your path\n",
    "    EVAL_PATH = '../eval/'\n",
    "os.makedirs(EVAL_PATH, exist_ok=True)"
   ],
   "metadata": {
    "collapsed": false,
    "ExecuteTime": {
     "end_time": "2025-09-15T18:48:07.134889828Z",
     "start_time": "2025-09-15T18:48:07.123052337Z"
    }
   },
   "id": "de7835d6a5e58021"
  },
  {
   "cell_type": "code",
   "execution_count": 12,
   "outputs": [
    {
     "name": "stdout",
     "output_type": "stream",
     "text": [
      "6\n"
     ]
    }
   ],
   "source": [
    "# Hyperparameters\n",
    "patch_size = 250\n",
    "stride = 250\n",
    "batch_size = 8\n",
    "num_classes = PotsdamDataset.get_num_classes(mode=\"single\")\n",
    "class_names = PotsdamDataset.CLASS_NAMES_SINGLE"
   ],
   "metadata": {
    "collapsed": false,
    "ExecuteTime": {
     "end_time": "2025-09-15T18:59:27.732020508Z",
     "start_time": "2025-09-15T18:59:27.719375560Z"
    }
   },
   "id": "407e56ab6bb98f35"
  },
  {
   "cell_type": "markdown",
   "source": [
    "# Train resnet18"
   ],
   "metadata": {
    "collapsed": false
   },
   "id": "e577378afa3c0290"
  },
  {
   "metadata": {
    "id": "4d749718eca0e3bc",
    "ExecuteTime": {
     "end_time": "2025-08-13T22:35:06.485245490Z",
     "start_time": "2025-08-13T22:33:33.433587329Z"
    }
   },
   "cell_type": "code",
   "outputs": [
    {
     "name": "stderr",
     "output_type": "stream",
     "text": [
      "Building index: 100%|██████████| 24/24 [00:00<00:00, 260785.74it/s]\n",
      "Evaluating: 100%|██████████| 274/274 [01:25<00:00,  3.20it/s]\n",
      "/home/janina/PycharmProjects/DLAM_SealedSurfaces/src/evaluate.py:83: RuntimeWarning: invalid value encountered in divide\n",
      "  per_class_iou = np.where(union > 0, intersection / union, 0.0)\n"
     ]
    },
    {
     "name": "stdout",
     "output_type": "stream",
     "text": [
      "Evaluation completed.\n",
      "Pixel Accuracy: 0.6414\n",
      "Mean IoU: 0.3597\n",
      "Per-class IoU:\n",
      "  Class 0: 0.5105\n",
      "  Class 1: 0.5755\n",
      "  Class 2: 0.4061\n",
      "  Class 3: 0.3663\n",
      "  Class 4: 0.2998\n",
      "  Class 5: 0.0000\n"
     ]
    }
   ],
   "execution_count": 5,
   "source": [
    "dataset = PotsdamDataset(IMAGE_PATH, LABEL_PATH, patch_size=patch_size, stride=stride, device=DEVICE)\n",
    "train_loader, val_loader, test_loader = get_data_loaders(dataset, dist=[0.8, 0.1, 0.1], batch_size=batch_size)\n",
    "\n",
    "model = get_trained_custom_resnet18(model_path='../models/resnet18.pth', patch_size=patch_size, num_classes=num_classes, device=DEVICE)\n",
    "evaluate_segmentation(model=model, data_loader=test_loader, device=DEVICE, model_type='ResNet18', class_names=class_names, patch_size=patch_size, eval_path=EVAL_PATH + 'resnet18.svg')"
   ],
   "id": "4d749718eca0e3bc"
  },
  {
   "cell_type": "markdown",
   "source": [
    "# Train DeepLabV3 resnet101 baseline"
   ],
   "metadata": {
    "collapsed": false
   },
   "id": "1feb801cdbb86dba"
  },
  {
   "cell_type": "code",
   "execution_count": 16,
   "outputs": [
    {
     "name": "stderr",
     "output_type": "stream",
     "text": [
      "Building index: 100%|██████████| 24/24 [00:00<00:00, 260111.88it/s]\n",
      "Building index: 100%|██████████| 24/24 [00:00<00:00, 180400.17it/s]\n",
      "Building index: 100%|██████████| 24/24 [00:00<00:00, 142784.82it/s]\n",
      "Building index: 100%|██████████| 24/24 [00:00<00:00, 104639.60it/s]\n",
      "Evaluating: 100%|██████████| 274/274 [08:52<00:00,  1.94s/it]\n"
     ]
    },
    {
     "name": "stdout",
     "output_type": "stream",
     "text": [
      "Evaluation completed.\n",
      "Pixel Accuracy: 0.8661\n",
      "Mean IoU: 0.7236\n",
      "Per-class IoU:\n",
      "  Class 0: 0.7934\n",
      "  Class 1: 0.8893\n",
      "  Class 2: 0.7493\n",
      "  Class 3: 0.7040\n",
      "  Class 4: 0.7006\n",
      "  Class 5: 0.5048\n"
     ]
    }
   ],
   "source": [
    "train_loader, val_loader, test_loader = get_data_loaders(IMAGE_PATH, LABEL_PATH,patch_size,\n",
    "                     stride,\n",
    "                     dist=[0.8, 0.1, 0.1],\n",
    "                     batch_size=batch_size,\n",
    "                     device=DEVICE,\n",
    "                     mode=\"single\",\n",
    "                     pin_memory=False,\n",
    "                     num_workers=0,\n",
    "                     seed=42)\n",
    "\n",
    "model = get_trained_deeplabv3_resnet101(model_path='../models/deeplab_stage3.pth', num_classes=num_classes, device=DEVICE)\n",
    "\n",
    "evaluate_segmentation(model=model, data_loader=test_loader, device=DEVICE, model_type='DeepLabV3', class_names=class_names, patch_size=patch_size, eval_path=EVAL_PATH + 'deeplabv3_resnet101.svg')"
   ],
   "metadata": {
    "collapsed": false,
    "ExecuteTime": {
     "end_time": "2025-09-15T19:12:45.213743472Z",
     "start_time": "2025-09-15T19:03:49.356657161Z"
    }
   },
   "id": "4f218a2788635ab"
  },
  {
   "cell_type": "markdown",
   "source": [
    "# Train SegFormer"
   ],
   "metadata": {
    "collapsed": false
   },
   "id": "b212da15242a4ac5"
  },
  {
   "cell_type": "code",
   "execution_count": 14,
   "outputs": [
    {
     "name": "stderr",
     "output_type": "stream",
     "text": [
      "/home/janina/PycharmProjects/DLAM_SealedSurfaces/venv/lib/python3.12/site-packages/albumentations/core/validation.py:114: UserWarning: ShiftScaleRotate is a special case of Affine transform. Please use Affine transform instead.\n",
      "  original_init(self, **validated_kwargs)\n",
      "/home/janina/PycharmProjects/DLAM_SealedSurfaces/src/dataset.py:27: UserWarning: Argument(s) 'var_limit' are not valid for transform GaussNoise\n",
      "  A.GaussNoise(var_limit=(10.0, 50.0), p=0.3),\n",
      "Building index: 100%|██████████| 24/24 [00:00<00:00, 305967.47it/s]\n",
      "Building index: 100%|██████████| 24/24 [00:00<00:00, 216946.76it/s]\n",
      "Building index: 100%|██████████| 24/24 [00:00<00:00, 141979.26it/s]\n",
      "Building index: 100%|██████████| 24/24 [00:00<00:00, 202135.13it/s]\n",
      "Some weights of SegformerForSemanticSegmentation were not initialized from the model checkpoint at nvidia/segformer-b0-finetuned-ade-512-512 and are newly initialized because the shapes did not match:\n",
      "- decode_head.classifier.bias: found shape torch.Size([150]) in the checkpoint and torch.Size([6]) in the model instantiated\n",
      "- decode_head.classifier.weight: found shape torch.Size([150, 256, 1, 1]) in the checkpoint and torch.Size([6, 256, 1, 1]) in the model instantiated\n",
      "You should probably TRAIN this model on a down-stream task to be able to use it for predictions and inference.\n",
      "Evaluating: 100%|██████████| 274/274 [00:41<00:00,  6.56it/s]\n"
     ]
    },
    {
     "name": "stdout",
     "output_type": "stream",
     "text": [
      "Evaluation completed.\n",
      "Pixel Accuracy: 0.8644\n",
      "Mean IoU: 0.7241\n",
      "Per-class IoU:\n",
      "  Class 0: 0.7878\n",
      "  Class 1: 0.8768\n",
      "  Class 2: 0.7368\n",
      "  Class 3: 0.7079\n",
      "  Class 4: 0.6925\n",
      "  Class 5: 0.5426\n"
     ]
    }
   ],
   "source": [
    "train_loader, val_loader, test_loader = get_data_loaders(IMAGE_PATH, LABEL_PATH,patch_size,\n",
    "                     stride,\n",
    "                     dist=[0.8, 0.1, 0.1],\n",
    "                     batch_size=batch_size,\n",
    "                     device=DEVICE,\n",
    "                     mode=\"single\",\n",
    "                     pin_memory=False,\n",
    "                     num_workers=0,\n",
    "                     seed=42)\n",
    "\n",
    "model = get_trained_segformer_model('../models/segformer_stage3.pth', num_classes=num_classes, device=DEVICE)\n",
    "\n",
    "evaluate_segmentation(model=model, data_loader=test_loader, device=DEVICE, model_type='SegFormer', class_names=class_names, patch_size=patch_size, eval_path=EVAL_PATH + 'segformer.svg')"
   ],
   "metadata": {
    "collapsed": false,
    "ExecuteTime": {
     "end_time": "2025-09-15T19:01:16.215117912Z",
     "start_time": "2025-09-15T19:00:32.114465314Z"
    }
   },
   "id": "5ad10e6b9efe5090"
  },
  {
   "cell_type": "code",
   "execution_count": null,
   "outputs": [],
   "source": [],
   "metadata": {
    "collapsed": false,
    "ExecuteTime": {
     "start_time": "2025-08-13T22:43:58.526256441Z"
    }
   },
   "id": "c98e87d0bc192c47"
  }
 ],
 "metadata": {
  "kernelspec": {
   "display_name": "Python 3",
   "language": "python",
   "name": "python3"
  },
  "language_info": {
   "codemirror_mode": {
    "name": "ipython",
    "version": 2
   },
   "file_extension": ".py",
   "mimetype": "text/x-python",
   "name": "python",
   "nbconvert_exporter": "python",
   "pygments_lexer": "ipython2",
   "version": "2.7.6"
  },
  "colab": {
   "provenance": []
  }
 },
 "nbformat": 4,
 "nbformat_minor": 5
}
